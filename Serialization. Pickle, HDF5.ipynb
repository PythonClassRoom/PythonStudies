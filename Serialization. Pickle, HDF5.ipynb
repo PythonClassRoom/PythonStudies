{
 "cells": [
  {
   "cell_type": "markdown",
   "metadata": {},
   "source": [
    "# Serialization (Pickle & HDF5)\n",
    "##### https://www.datacamp.com/community/tutorials/pickle-python-tutorial\n",
    "The process to convert memory data into other format data that can be storage\n",
    "The formats can be JSON,csv,plain text and more"
   ]
  },
  {
   "cell_type": "markdown",
   "metadata": {},
   "source": [
    "# 1) Pickle\n",
    "It is a object that allows serializing and de-serializing  \n",
    "It is a Python standar, so it will not work on other lenguages aproach, keep that on mind\n",
    "Booleans,  \n",
    "Integers,  \n",
    "Floats,  \n",
    "Complex numbers,  \n",
    "(normal and Unicode) Strings,  \n",
    "Tuples,  \n",
    "Lists,  \n",
    "Sets, and Dictionaries that ontain picklable objects.  "
   ]
  },
  {
   "cell_type": "markdown",
   "metadata": {},
   "source": [
    "## Pickling a list"
   ]
  },
  {
   "cell_type": "code",
   "execution_count": 11,
   "metadata": {},
   "outputs": [],
   "source": [
    "import pickle\n",
    "\n",
    "myList = [1,2.2,\"Hello World\",True,]\n",
    "\n",
    "filename = 'C:\\\\Users\\\\asge\\\\Desktop\\\\list'\n",
    "\n",
    "outfile = open(filename,'wb') #Creating a stream for serialization, 'wb' stands for writting & binary\n",
    "\n",
    "pickle.dump(myList,outfile) #Actual serialization\n",
    "\n",
    "outfile.close() # Close the stream\n"
   ]
  },
  {
   "cell_type": "markdown",
   "metadata": {},
   "source": [
    "## Unpickling the list"
   ]
  },
  {
   "cell_type": "code",
   "execution_count": 14,
   "metadata": {},
   "outputs": [
    {
     "name": "stdout",
     "output_type": "stream",
     "text": [
      "[1, 2.2, 'Hello World', True]\n"
     ]
    }
   ],
   "source": [
    "infile = open(filename,'rb') # 'rb' stands for reading & binary\n",
    "\n",
    "fromPickledList = pickle.load(infile) #open the stream\n",
    "\n",
    "infile.close()\n",
    "\n",
    "print(fromPickledList)"
   ]
  },
  {
   "cell_type": "markdown",
   "metadata": {},
   "source": [
    "## Pickling classes"
   ]
  },
  {
   "cell_type": "code",
   "execution_count": 25,
   "metadata": {},
   "outputs": [
    {
     "name": "stdout",
     "output_type": "stream",
     "text": [
      "{Name: Andres Age:23}\n"
     ]
    }
   ],
   "source": [
    "class Person:\n",
    "    def __init__(self,name,age):\n",
    "        self.name = name\n",
    "        self.age = age\n",
    "        \n",
    "    def __repr__(self):\n",
    "        return f'{{Name: {self.name} Age:{self.age}}}'\n",
    "        \n",
    "    def __str__(self):\n",
    "        return f'{{Name: {self.name} Age:{self.age}}}'\n",
    "       \n",
    "        \n",
    "person = Person('Andres',23)\n",
    "print(person)\n",
    "\n",
    "filename = 'C:\\\\Users\\\\asge\\\\Desktop\\\\person'\n",
    "outfile = open(filename,'wb') #Creating a stream for serialization, 'wb' stands for writting & binary\n",
    "\n",
    "pickle.dump(person,outfile) #Actual serialization\n",
    "\n",
    "outfile.close() # Close the stream\n",
    "\n",
    "        "
   ]
  },
  {
   "cell_type": "markdown",
   "metadata": {},
   "source": [
    "## Unpicling a object"
   ]
  },
  {
   "cell_type": "code",
   "execution_count": 26,
   "metadata": {},
   "outputs": [
    {
     "name": "stdout",
     "output_type": "stream",
     "text": [
      "{Name: Andres Age:23}\n"
     ]
    }
   ],
   "source": [
    "infile = open(filename,'rb') # 'rb' stands for reading & binary\n",
    "\n",
    "fromPickledObject = pickle.load(infile) #open the stream\n",
    "\n",
    "infile.close()\n",
    "\n",
    "print(fromPickledObject)"
   ]
  },
  {
   "cell_type": "markdown",
   "metadata": {},
   "source": [
    "# 2) HDF5\n",
    "HDF5 is a unique technology suite that makes possible the management of extremely large and complex data collections."
   ]
  },
  {
   "cell_type": "code",
   "execution_count": 3,
   "metadata": {},
   "outputs": [],
   "source": [
    "import numpy as np\n",
    "import h5py"
   ]
  },
  {
   "cell_type": "code",
   "execution_count": null,
   "metadata": {},
   "outputs": [],
   "source": []
  }
 ],
 "metadata": {
  "kernelspec": {
   "display_name": "Python 3",
   "language": "python",
   "name": "python3"
  },
  "language_info": {
   "codemirror_mode": {
    "name": "ipython",
    "version": 3
   },
   "file_extension": ".py",
   "mimetype": "text/x-python",
   "name": "python",
   "nbconvert_exporter": "python",
   "pygments_lexer": "ipython3",
   "version": "3.7.1"
  }
 },
 "nbformat": 4,
 "nbformat_minor": 2
}
