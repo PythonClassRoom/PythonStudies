{
 "cells": [
  {
   "cell_type": "markdown",
   "metadata": {},
   "source": [
    "# Files\n",
    "\n",
    "One of the most basic tasks to perform in pretty much every modern programming language is performing I/O operations on files."
   ]
  },
  {
   "cell_type": "markdown",
   "metadata": {},
   "source": [
    "## Open\n",
    "\n",
    "First, in order to do any work, a file must be opened. The first parameter is the file's name and the second parameter is the mode under which the file will be opened.\n",
    "\n",
    "* 'r': Only reading.\n",
    "* 'w': Only writing. File will be created if non-existant, overwritten if it exists.\n",
    "* 'a': Add data to the end of the file.\n",
    "* 'r+': Open for both reading and writing. In this mode, if the file exists already, the write operation will function as an append.\n",
    "* 'b': This may be added to any of the previous modes, 'rb' for example, to have the file be read in binary mode. Here the file will be read byte by byte and not as text.\n",
    "\n",
    "Should no mode be specified, the default is only read."
   ]
  },
  {
   "cell_type": "markdown",
   "metadata": {},
   "source": [
    "## With keyword\n",
    "\n",
    "The with keyword allows you to open a file while not having to close the file yourself and giving a more intuitive way to assign its allias.\n",
    "If you open a file with this keyword, you must explicitly call yourfile.close()."
   ]
  },
  {
   "cell_type": "code",
   "execution_count": 60,
   "metadata": {},
   "outputs": [
    {
     "data": {
      "text/plain": [
       "'potato\\ntomato'"
      ]
     },
     "execution_count": 60,
     "metadata": {},
     "output_type": "execute_result"
    }
   ],
   "source": [
    "with open('file_demo.txt') as f:\n",
    "    read_data = f.read()\n",
    "read_data"
   ]
  },
  {
   "cell_type": "markdown",
   "metadata": {},
   "source": [
    "## Reading in text mode\n",
    "\n",
    "Python offers several ways to read a file while in text mode."
   ]
  },
  {
   "cell_type": "markdown",
   "metadata": {},
   "source": [
    "### Read\n",
    "\n",
    "This method reads the given number of bytes. Should no number of bytes be specified, the whole file'll be read, as seen in the example above."
   ]
  },
  {
   "cell_type": "code",
   "execution_count": 61,
   "metadata": {},
   "outputs": [
    {
     "data": {
      "text/plain": [
       "'po'"
      ]
     },
     "execution_count": 61,
     "metadata": {},
     "output_type": "execute_result"
    }
   ],
   "source": [
    "with open('file_demo.txt') as f:\n",
    "    read_data = f.read(2)\n",
    "read_data"
   ]
  },
  {
   "cell_type": "markdown",
   "metadata": {},
   "source": [
    "### Readline\n",
    "\n",
    "This reads the file line by line. A linebreak is inserted at the end of the line read except when that line is the last one in the file.\n",
    "This means that if the method returns an empty line, the end of the file has been reached."
   ]
  },
  {
   "cell_type": "code",
   "execution_count": 62,
   "metadata": {},
   "outputs": [
    {
     "name": "stdout",
     "output_type": "stream",
     "text": [
      "potato\n",
      "\n",
      "tomato\n"
     ]
    }
   ],
   "source": [
    "with open('file_demo.txt') as f:\n",
    "    print(f.readline())\n",
    "    print(f.readline())"
   ]
  },
  {
   "cell_type": "markdown",
   "metadata": {},
   "source": [
    "But in reality, it's best to read the file in a loop, such as this:"
   ]
  },
  {
   "cell_type": "code",
   "execution_count": 63,
   "metadata": {},
   "outputs": [
    {
     "name": "stdout",
     "output_type": "stream",
     "text": [
      "potato\n",
      "\n",
      "tomato\n"
     ]
    }
   ],
   "source": [
    "with open('file_demo.txt') as f:\n",
    "    for line in f:\n",
    "        print(line)"
   ]
  },
  {
   "cell_type": "markdown",
   "metadata": {},
   "source": [
    "### List and Readlines\n",
    "\n",
    "Both of these methods allow you to read a file into a list.\n",
    "Each line becomes a single element of the list, and all but the last element will have a linebreak added to them."
   ]
  },
  {
   "cell_type": "code",
   "execution_count": 64,
   "metadata": {},
   "outputs": [
    {
     "name": "stdout",
     "output_type": "stream",
     "text": [
      "['potato\\n', 'tomato']\n",
      "['potato\\n', 'tomato']\n"
     ]
    }
   ],
   "source": [
    "with open('file_demo.txt') as f:\n",
    "    print(list(f))\n",
    "with open('file_demo.txt') as f:\n",
    "    print (f.readlines())"
   ]
  },
  {
   "cell_type": "markdown",
   "metadata": {},
   "source": [
    "## Writing\n",
    "\n",
    "Reading from a file is nice and all, but our apps may be no good if we have no way of storing data in files.\n",
    "Remember that in order to write, the mode must be explicitely stated."
   ]
  },
  {
   "cell_type": "code",
   "execution_count": 65,
   "metadata": {},
   "outputs": [],
   "source": [
    "with open('write_demo.txt','w') as f: #Remember, if the file doesn't exist it'll be created.\n",
    "    f.write(\"Test string\")"
   ]
  },
  {
   "cell_type": "code",
   "execution_count": 66,
   "metadata": {},
   "outputs": [
    {
     "name": "stdout",
     "output_type": "stream",
     "text": [
      "Test string\n"
     ]
    }
   ],
   "source": [
    "with open('write_demo.txt','r') as f:\n",
    "    print(f.read())"
   ]
  },
  {
   "cell_type": "markdown",
   "metadata": {},
   "source": [
    "## File traversal\n",
    "\n",
    "### Tell\n",
    "\n",
    "This tells you the byte number corresponding to the current position of the file."
   ]
  },
  {
   "cell_type": "code",
   "execution_count": 67,
   "metadata": {},
   "outputs": [
    {
     "name": "stdout",
     "output_type": "stream",
     "text": [
      "0\n",
      "8\n"
     ]
    }
   ],
   "source": [
    "with open('file_demo.txt','r') as f:\n",
    "    print(f.tell())\n",
    "    f.readline()\n",
    "    print(f.tell())"
   ]
  },
  {
   "cell_type": "markdown",
   "metadata": {},
   "source": [
    "We get 8 as a result because there's 6 bytes occupied by the word 'potato', 0-5, two bytes for the line break, '\\n' 6-7, and then the 8th byte is the first one of the tomato word."
   ]
  },
  {
   "cell_type": "markdown",
   "metadata": {},
   "source": [
    "### Seek\n",
    "\n",
    "This allows you to move to a specific byte in the file.\n",
    "The calls follows the form seek(byte index, from what position)\n",
    "There are three posible positions from which to read:\n",
    "* 0: Seek from the beginning of the file \n",
    "* 1: Seek from current position (Only allowed in byte mode)\n",
    "* 2: Seek from the end (Only allowed in byte mode)"
   ]
  },
  {
   "cell_type": "code",
   "execution_count": 68,
   "metadata": {},
   "outputs": [
    {
     "name": "stdout",
     "output_type": "stream",
     "text": [
      "ato\n",
      "tomato\n"
     ]
    }
   ],
   "source": [
    "with open('file_demo.txt') as f:\n",
    "    f.seek(3)\n",
    "    print(f.read())"
   ]
  },
  {
   "cell_type": "code",
   "execution_count": 69,
   "metadata": {},
   "outputs": [
    {
     "ename": "UnsupportedOperation",
     "evalue": "can't do nonzero cur-relative seeks",
     "output_type": "error",
     "traceback": [
      "\u001b[1;31m---------------------------------------------------------------------------\u001b[0m",
      "\u001b[1;31mUnsupportedOperation\u001b[0m                      Traceback (most recent call last)",
      "\u001b[1;32m<ipython-input-69-af8d60f5c986>\u001b[0m in \u001b[0;36m<module>\u001b[1;34m\u001b[0m\n\u001b[0;32m      1\u001b[0m \u001b[1;32mwith\u001b[0m \u001b[0mopen\u001b[0m\u001b[1;33m(\u001b[0m\u001b[1;34m'file_demo.txt'\u001b[0m\u001b[1;33m)\u001b[0m \u001b[1;32mas\u001b[0m \u001b[0mf\u001b[0m\u001b[1;33m:\u001b[0m\u001b[1;33m\u001b[0m\u001b[1;33m\u001b[0m\u001b[0m\n\u001b[1;32m----> 2\u001b[1;33m     \u001b[0mf\u001b[0m\u001b[1;33m.\u001b[0m\u001b[0mseek\u001b[0m\u001b[1;33m(\u001b[0m\u001b[1;36m3\u001b[0m\u001b[1;33m,\u001b[0m\u001b[1;36m1\u001b[0m\u001b[1;33m)\u001b[0m \u001b[1;31m#Since we are not in byte mode, this seek will fail\u001b[0m\u001b[1;33m\u001b[0m\u001b[1;33m\u001b[0m\u001b[0m\n\u001b[0m\u001b[0;32m      3\u001b[0m     \u001b[0mprint\u001b[0m\u001b[1;33m(\u001b[0m\u001b[0mf\u001b[0m\u001b[1;33m.\u001b[0m\u001b[0mread\u001b[0m\u001b[1;33m(\u001b[0m\u001b[1;33m)\u001b[0m\u001b[1;33m)\u001b[0m\u001b[1;33m\u001b[0m\u001b[1;33m\u001b[0m\u001b[0m\n",
      "\u001b[1;31mUnsupportedOperation\u001b[0m: can't do nonzero cur-relative seeks"
     ]
    }
   ],
   "source": [
    "with open('file_demo.txt') as f:\n",
    "    f.seek(3,1) #Since we are not in byte mode, this seek will fail\n",
    "    print(f.read())"
   ]
  },
  {
   "cell_type": "code",
   "execution_count": 70,
   "metadata": {},
   "outputs": [
    {
     "name": "stdout",
     "output_type": "stream",
     "text": [
      "b'ato\\r\\ntomato'\n"
     ]
    }
   ],
   "source": [
    "with open('file_demo.txt','rb') as f:\n",
    "    f.seek(3,1) #Now it'll succeed, but data will appear in a weird fashion, because of byte mode\n",
    "    print(f.read())"
   ]
  },
  {
   "cell_type": "code",
   "execution_count": 71,
   "metadata": {},
   "outputs": [
    {
     "name": "stdout",
     "output_type": "stream",
     "text": [
      "b'omato'\n"
     ]
    }
   ],
   "source": [
    "with open('file_demo.txt','rb') as f:\n",
    "    f.seek(-5,2) #Seeking backwards from the end. Positive indexes will print an empty string.\n",
    "    print(f.read())"
   ]
  }
 ],
 "metadata": {
  "kernelspec": {
   "display_name": "Python 3",
   "language": "python",
   "name": "python3"
  },
  "language_info": {
   "codemirror_mode": {
    "name": "ipython",
    "version": 3
   },
   "file_extension": ".py",
   "mimetype": "text/x-python",
   "name": "python",
   "nbconvert_exporter": "python",
   "pygments_lexer": "ipython3",
   "version": "3.7.1"
  }
 },
 "nbformat": 4,
 "nbformat_minor": 2
}
