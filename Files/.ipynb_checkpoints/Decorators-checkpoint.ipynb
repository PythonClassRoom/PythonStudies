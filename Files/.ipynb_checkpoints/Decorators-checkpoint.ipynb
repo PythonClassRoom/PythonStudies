{
 "cells": [
  {
   "cell_type": "markdown",
   "metadata": {},
   "source": [
    "# Decorators\n",
    "\n",
    "These serve to extend the functionality of another function without tapping into its code.\n",
    "More especifacally, they perform some operations before and/or after the modified function runs, and may also do something with the function's output."
   ]
  },
  {
   "cell_type": "markdown",
   "metadata": {},
   "source": [
    "## Your very own decorator\n",
    "\n",
    "Don't get too excited, it'll be very simple, for now."
   ]
  },
  {
   "cell_type": "code",
   "execution_count": 8,
   "metadata": {},
   "outputs": [
    {
     "data": {
      "text/plain": [
       "<function __main__.first_decorator.<locals>.wrapper()>"
      ]
     },
     "execution_count": 8,
     "metadata": {},
     "output_type": "execute_result"
    }
   ],
   "source": [
    "def first_decorator(func):\n",
    "    def wrapper():        \n",
    "        print('Before function runs')\n",
    "        func()\n",
    "        print('Ater function runs')\n",
    "    return wrapper\n",
    "\n",
    "@first_decorator\n",
    "def hello_world():\n",
    "    print('Hello World')\n",
    "    \n",
    "hello_world\n"
   ]
  },
  {
   "cell_type": "markdown",
   "metadata": {},
   "source": [
    "Let's go over this example piece by piece.\n",
    "First, the decorator takes the hello_world function as a parameter. The @ syntax is just a shorthand for decorators.\n",
    "If you don't call the hello function but just type its name, you'll see that it's the decorator that actually shows up.\n",
    "This is because the decorator puts itself in the wrapped function's place."
   ]
  },
  {
   "cell_type": "code",
   "execution_count": 9,
   "metadata": {},
   "outputs": [
    {
     "name": "stdout",
     "output_type": "stream",
     "text": [
      "Before function runs\n",
      "Hello World\n",
      "Ater function runs\n"
     ]
    }
   ],
   "source": [
    "hello_world()"
   ]
  },
  {
   "cell_type": "markdown",
   "metadata": {},
   "source": [
    "Once you actually make a call, the decorator is called with the wrapped function as a parameter, the decorator returns the wrapper, for which the wrapper needs to be called. The wrapper does its thing and when the time is right, calls the wrapped function."
   ]
  },
  {
   "cell_type": "markdown",
   "metadata": {},
   "source": [
    "## \\*args and **kwargs"
   ]
  },
  {
   "cell_type": "markdown",
   "metadata": {},
   "source": [
    "So now you've got yourself a mighty decorator, right? Let's see it in action in a different scenario."
   ]
  },
  {
   "cell_type": "code",
   "execution_count": 11,
   "metadata": {},
   "outputs": [
    {
     "ename": "TypeError",
     "evalue": "wrapper() takes 0 positional arguments but 1 was given",
     "output_type": "error",
     "traceback": [
      "\u001b[1;31m---------------------------------------------------------------------------\u001b[0m",
      "\u001b[1;31mTypeError\u001b[0m                                 Traceback (most recent call last)",
      "\u001b[1;32m<ipython-input-11-930c8b47f8d2>\u001b[0m in \u001b[0;36m<module>\u001b[1;34m\u001b[0m\n\u001b[0;32m      3\u001b[0m     \u001b[0mprint\u001b[0m\u001b[1;33m(\u001b[0m\u001b[0mtext\u001b[0m\u001b[1;33m)\u001b[0m\u001b[1;33m\u001b[0m\u001b[1;33m\u001b[0m\u001b[0m\n\u001b[0;32m      4\u001b[0m \u001b[1;33m\u001b[0m\u001b[0m\n\u001b[1;32m----> 5\u001b[1;33m \u001b[0msuspicious_function\u001b[0m\u001b[1;33m(\u001b[0m\u001b[1;34m\"potato\"\u001b[0m\u001b[1;33m)\u001b[0m\u001b[1;33m\u001b[0m\u001b[1;33m\u001b[0m\u001b[0m\n\u001b[0m",
      "\u001b[1;31mTypeError\u001b[0m: wrapper() takes 0 positional arguments but 1 was given"
     ]
    }
   ],
   "source": [
    "@first_decorator\n",
    "def suspicious_function(text):\n",
    "    print(text)\n",
    "    \n",
    "suspicious_function(\"potato\")"
   ]
  },
  {
   "cell_type": "markdown",
   "metadata": {},
   "source": [
    "Son of a gun, it doesn't work. What gives?\n",
    "Well, while this new function takes one parameter, the wrapper does not. So, when it takes the wrapped function, it throws that error.\n",
    "So now we just add a parameter to the wrapper, right? Easy peasy.\n",
    "\n"
   ]
  },
  {
   "cell_type": "code",
   "execution_count": 14,
   "metadata": {},
   "outputs": [
    {
     "name": "stdout",
     "output_type": "stream",
     "text": [
      "Before function runs\n",
      "potato\n",
      "Ater function runs\n"
     ]
    }
   ],
   "source": [
    "def second_decorator(func):\n",
    "    def wrapper(text):        \n",
    "        print('Before function runs')\n",
    "        func(text)\n",
    "        print('Ater function runs')\n",
    "    return wrapper\n",
    "\n",
    "@second_decorator\n",
    "def kinda_suspicious_function(text):\n",
    "    print(text)\n",
    "    \n",
    "kinda_suspicious_function(\"potato\")"
   ]
  },
  {
   "cell_type": "markdown",
   "metadata": {},
   "source": [
    "Yay it works. Let's try it with something bigger."
   ]
  },
  {
   "cell_type": "code",
   "execution_count": 16,
   "metadata": {},
   "outputs": [
    {
     "ename": "TypeError",
     "evalue": "wrapper() takes 1 positional argument but 2 were given",
     "output_type": "error",
     "traceback": [
      "\u001b[1;31m---------------------------------------------------------------------------\u001b[0m",
      "\u001b[1;31mTypeError\u001b[0m                                 Traceback (most recent call last)",
      "\u001b[1;32m<ipython-input-16-61d8c624f9bf>\u001b[0m in \u001b[0;36m<module>\u001b[1;34m\u001b[0m\n\u001b[0;32m      3\u001b[0m     \u001b[0mprint\u001b[0m\u001b[1;33m(\u001b[0m\u001b[0mtext\u001b[0m\u001b[1;33m,\u001b[0m \u001b[0mtext2\u001b[0m\u001b[1;33m)\u001b[0m\u001b[1;33m\u001b[0m\u001b[1;33m\u001b[0m\u001b[0m\n\u001b[0;32m      4\u001b[0m \u001b[1;33m\u001b[0m\u001b[0m\n\u001b[1;32m----> 5\u001b[1;33m \u001b[0mparty_pooper\u001b[0m\u001b[1;33m(\u001b[0m\u001b[1;34m'Damn'\u001b[0m\u001b[1;33m,\u001b[0m \u001b[1;34m'you'\u001b[0m\u001b[1;33m)\u001b[0m\u001b[1;33m\u001b[0m\u001b[1;33m\u001b[0m\u001b[0m\n\u001b[0m",
      "\u001b[1;31mTypeError\u001b[0m: wrapper() takes 1 positional argument but 2 were given"
     ]
    }
   ],
   "source": [
    "@second_decorator\n",
    "def party_pooper(text, text2):\n",
    "    print(text, text2)\n",
    "\n",
    "party_pooper('Damn', 'you')"
   ]
  },
  {
   "cell_type": "markdown",
   "metadata": {},
   "source": [
    "Now that is the problem with just adding parameters to the wrapper. Should the amount given differ in any way from the amount expected, it simply will not work.\n",
    "So here we take advantage of \\*args and **kwargs.\n",
    "These allow a function to take in an arbitrary amount of parameters."
   ]
  },
  {
   "cell_type": "code",
   "execution_count": 22,
   "metadata": {},
   "outputs": [],
   "source": [
    "def cool_decorator(func):\n",
    "    def wrapper(*args, **kwargs):        \n",
    "        print('Before function runs')\n",
    "        func(*args, **kwargs)\n",
    "        print('Ater function runs')\n",
    "    return wrapper"
   ]
  },
  {
   "cell_type": "markdown",
   "metadata": {},
   "source": [
    "\\* args allow any amount of parameters to be passed to a function. **kwargs simply allow a programmer to do something like: function(param_one=3, param_two=42).\n",
    "Let's try this decorator out."
   ]
  },
  {
   "cell_type": "code",
   "execution_count": 23,
   "metadata": {},
   "outputs": [
    {
     "name": "stdout",
     "output_type": "stream",
     "text": [
      "Before function runs\n",
      "Damn you\n",
      "Ater function runs\n"
     ]
    }
   ],
   "source": [
    "@cool_decorator\n",
    "def final_push(text, text2):\n",
    "    print(text, text2)\n",
    "\n",
    "final_push('Damn', 'you')"
   ]
  },
  {
   "cell_type": "markdown",
   "metadata": {},
   "source": [
    "Ok, ok, now that looks good. Let's see what heppens if the wrapped function returns a value."
   ]
  },
  {
   "cell_type": "code",
   "execution_count": 25,
   "metadata": {},
   "outputs": [
    {
     "name": "stdout",
     "output_type": "stream",
     "text": [
      "Before function runs\n",
      "Ater function runs\n",
      "None\n"
     ]
    }
   ],
   "source": [
    "@cool_decorator\n",
    "def return_test():\n",
    "    return 3\n",
    "\n",
    "a = return_test()\n",
    "print(a)"
   ]
  },
  {
   "cell_type": "markdown",
   "metadata": {},
   "source": [
    "Seems like we can't catch a break, right?\n",
    "This has a rather simple fix, however. Just make it so that the wrapper returns the values from the functions.\n",
    "But just in case, let's future proof our return with \\*args and **kwargs."
   ]
  },
  {
   "cell_type": "code",
   "execution_count": 30,
   "metadata": {},
   "outputs": [],
   "source": [
    "def final_decorator(func):\n",
    "    def wrapper(*args, **kwargs):        \n",
    "        print('Before function runs')\n",
    "        return func(*args, **kwargs)\n",
    "    return wrapper"
   ]
  },
  {
   "cell_type": "code",
   "execution_count": 31,
   "metadata": {},
   "outputs": [
    {
     "name": "stdout",
     "output_type": "stream",
     "text": [
      "Before function runs\n",
      "3\n"
     ]
    }
   ],
   "source": [
    "@final_decorator\n",
    "def working_return():\n",
    "    return 3\n",
    "\n",
    "a = working_return()\n",
    "print(a)"
   ]
  },
  {
   "cell_type": "markdown",
   "metadata": {},
   "source": [
    "## Class as a wrapper"
   ]
  },
  {
   "cell_type": "code",
   "execution_count": 41,
   "metadata": {},
   "outputs": [],
   "source": [
    "import functools\n",
    "\n",
    "class CountCalls:\n",
    "    def __init__(self, func):\n",
    "        self.func = func\n",
    "        self.num_calls = 0\n",
    "\n",
    "    def __call__(self, *args, **kwargs):\n",
    "        self.num_calls += 1\n",
    "        print(f\"Call {self.num_calls} of {self.func.__name__!r}\")\n",
    "        return self.func(*args, **kwargs)\n",
    "\n",
    "@CountCalls\n",
    "def say_whee():\n",
    "    print(\"Whee!\")"
   ]
  },
  {
   "cell_type": "code",
   "execution_count": 44,
   "metadata": {},
   "outputs": [
    {
     "name": "stdout",
     "output_type": "stream",
     "text": [
      "Call 2 of 'say_whee'\n",
      "Whee!\n"
     ]
    }
   ],
   "source": [
    "say_whee()"
   ]
  },
  {
   "cell_type": "code",
   "execution_count": null,
   "metadata": {},
   "outputs": [],
   "source": []
  }
 ],
 "metadata": {
  "kernelspec": {
   "display_name": "Python 3",
   "language": "python",
   "name": "python3"
  },
  "language_info": {
   "codemirror_mode": {
    "name": "ipython",
    "version": 3
   },
   "file_extension": ".py",
   "mimetype": "text/x-python",
   "name": "python",
   "nbconvert_exporter": "python",
   "pygments_lexer": "ipython3",
   "version": "3.7.1"
  }
 },
 "nbformat": 4,
 "nbformat_minor": 2
}
