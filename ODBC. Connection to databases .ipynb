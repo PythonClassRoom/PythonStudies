{
 "cells": [
  {
   "cell_type": "markdown",
   "metadata": {},
   "source": [
    "# ODBC. Connection to databases "
   ]
  },
  {
   "cell_type": "markdown",
   "metadata": {},
   "source": [
    "## Connection to PostgreSQL server with Psycopg2\n",
    "Installation Psycopg2: pip install psycopg2 (psycopg2==2.7.7)"
   ]
  },
  {
   "cell_type": "markdown",
   "metadata": {},
   "source": [
    "## Creating the connection to PostgreSQL database"
   ]
  },
  {
   "cell_type": "code",
   "execution_count": 5,
   "metadata": {},
   "outputs": [
    {
     "name": "stdout",
     "output_type": "stream",
     "text": [
      "Error while opening could not connect to server: Connection timed out (0x0000274C/10060)\n",
      "\tIs the server running on host \"mypostgrestest.postgres.database.azure.com\" (23.99.34.75) and accepting\n",
      "\tTCP/IP connections on port 5432?\n",
      "\n"
     ]
    }
   ],
   "source": [
    "import psycopg2\n",
    "from psycopg2 import Error\n",
    "try:\n",
    "    \n",
    "    #usr,password,host_ = 'postgres','root','localhost'\n",
    "    usr,password,host_ = 'asgeusr@mypostgrestest','jdjfR3eM','mypostgrestest.postgres.database.azure.com'\n",
    "    connection = psycopg2.connect(user = usr,\n",
    "                                  password = password,\n",
    "                                  host = host_,\n",
    "                                  port = \"5432\",\n",
    "                                  database = \"Interns\")\n",
    "    \n",
    "    cursor = connection.cursor() #Handles the connection\n",
    "\n",
    "except (Exception, psycopg2.DatabaseError) as error :\n",
    "    print (\"Error while opening\", error)"
   ]
  },
  {
   "cell_type": "markdown",
   "metadata": {},
   "source": [
    "## Close the connection"
   ]
  },
  {
   "cell_type": "code",
   "execution_count": 2,
   "metadata": {},
   "outputs": [
    {
     "name": "stdout",
     "output_type": "stream",
     "text": [
      "PostgreSQL connection is closed\n"
     ]
    }
   ],
   "source": [
    "#closing database connection.\n",
    "if(connection):\n",
    "    cursor.close()\n",
    "    connection.close()\n",
    "    print(\"PostgreSQL connection is closed\")"
   ]
  },
  {
   "cell_type": "markdown",
   "metadata": {},
   "source": [
    "## Query data"
   ]
  },
  {
   "cell_type": "markdown",
   "metadata": {},
   "source": [
    "#### Creating a new table"
   ]
  },
  {
   "cell_type": "code",
   "execution_count": 14,
   "metadata": {},
   "outputs": [
    {
     "name": "stdout",
     "output_type": "stream",
     "text": [
      "Table created successfully in PostgreSQL \n"
     ]
    }
   ],
   "source": [
    "createTable = '''create table InternsInformation(\n",
    "                    id varchar(15),\n",
    "                    username varchar(4),\n",
    "                    name varchar(30),\n",
    "                    lastname varchar(40),\n",
    "                    age integer\n",
    "                );'''\n",
    "\n",
    "cursor.execute(createTable)\n",
    "connection.commit()\n",
    "print(\"Table created successfully in PostgreSQL \")"
   ]
  },
  {
   "cell_type": "markdown",
   "metadata": {},
   "source": [
    "#### Inserting data into a table"
   ]
  },
  {
   "cell_type": "code",
   "execution_count": 15,
   "metadata": {},
   "outputs": [
    {
     "name": "stdout",
     "output_type": "stream",
     "text": [
      "1 Record inserted successfully into InternsInformation table\n",
      "1 Record inserted successfully into InternsInformation table\n",
      "1 Record inserted successfully into InternsInformation table\n",
      "1 Record inserted successfully into InternsInformation table\n"
     ]
    }
   ],
   "source": [
    "# the data set\n",
    "interns = [\n",
    "    ('402310453','asge','Andres','Gutierrez',23),\n",
    "    ('123456790','cope','Carlos','Portuguez',22),\n",
    "    ('546413431','dima','David','Morales',22),\n",
    "    ('189146131','waee','William','Espinoza',22),\n",
    "]\n",
    "for intern in interns:\n",
    "    insert = (f\"insert into InternsInformation (id,username,name,lastname,age)\" \n",
    "              f\"values (\\'{intern[0]}\\',\\'{intern[1]}\\',\\'{intern[2]}\\',\\'{intern[3]}\\',{intern[4]});\")\n",
    "    cursor.execute(insert)\n",
    "    connection.commit()\n",
    "    count = cursor.rowcount\n",
    "    print (count, \"Record inserted successfully into InternsInformation table\")"
   ]
  },
  {
   "cell_type": "markdown",
   "metadata": {},
   "source": [
    "#### Select data from a table"
   ]
  },
  {
   "cell_type": "code",
   "execution_count": 4,
   "metadata": {},
   "outputs": [
    {
     "ename": "InterfaceError",
     "evalue": "cursor already closed",
     "output_type": "error",
     "traceback": [
      "\u001b[1;31m---------------------------------------------------------------------------\u001b[0m",
      "\u001b[1;31mInterfaceError\u001b[0m                            Traceback (most recent call last)",
      "\u001b[1;32m<ipython-input-4-0a5ce4c080ea>\u001b[0m in \u001b[0;36m<module>\u001b[1;34m\u001b[0m\n\u001b[0;32m      2\u001b[0m \u001b[0mpostgreSQL_select_Query\u001b[0m \u001b[1;33m=\u001b[0m \u001b[1;34m\"select * from InternsInformation\"\u001b[0m\u001b[1;33m\u001b[0m\u001b[1;33m\u001b[0m\u001b[0m\n\u001b[0;32m      3\u001b[0m \u001b[1;33m\u001b[0m\u001b[0m\n\u001b[1;32m----> 4\u001b[1;33m \u001b[0mcursor\u001b[0m\u001b[1;33m.\u001b[0m\u001b[0mexecute\u001b[0m\u001b[1;33m(\u001b[0m\u001b[0mpostgreSQL_select_Query\u001b[0m\u001b[1;33m)\u001b[0m\u001b[1;33m\u001b[0m\u001b[1;33m\u001b[0m\u001b[0m\n\u001b[0m\u001b[0;32m      5\u001b[0m \u001b[0mprint\u001b[0m\u001b[1;33m(\u001b[0m\u001b[1;34m\"Selecting rows from InternsInformation table using cursor.fetchall\"\u001b[0m\u001b[1;33m)\u001b[0m\u001b[1;33m\u001b[0m\u001b[1;33m\u001b[0m\u001b[0m\n\u001b[0;32m      6\u001b[0m \u001b[0mrecords\u001b[0m \u001b[1;33m=\u001b[0m \u001b[0mcursor\u001b[0m\u001b[1;33m.\u001b[0m\u001b[0mfetchall\u001b[0m\u001b[1;33m(\u001b[0m\u001b[1;33m)\u001b[0m\u001b[1;33m\u001b[0m\u001b[1;33m\u001b[0m\u001b[0m\n",
      "\u001b[1;31mInterfaceError\u001b[0m: cursor already closed"
     ]
    }
   ],
   "source": [
    "# the SQL QUERY\n",
    "postgreSQL_select_Query = \"select * from InternsInformation\"\n",
    "\n",
    "cursor.execute(postgreSQL_select_Query)\n",
    "print(\"Selecting rows from InternsInformation table using cursor.fetchall\")\n",
    "records = cursor.fetchall() \n",
    "\n",
    "print(\"Print each row and it's columns values\")\n",
    "for row in records:\n",
    "   print(row)\n",
    "\n",
    "# As you can see, it returns a tuple, so we can use all the built-in methods for tuples (e.g. [])"
   ]
  },
  {
   "cell_type": "markdown",
   "metadata": {},
   "source": [
    "## Lets create a dataframe with Pandas"
   ]
  },
  {
   "cell_type": "code",
   "execution_count": 75,
   "metadata": {},
   "outputs": [],
   "source": [
    "import pandas as pd"
   ]
  },
  {
   "cell_type": "markdown",
   "metadata": {},
   "source": [
    "## Executing a stored procedured"
   ]
  },
  {
   "cell_type": "code",
   "execution_count": 6,
   "metadata": {},
   "outputs": [],
   "source": [
    "# insert_intern procedure perform an insert of a intern into the InternsInformation table\n",
    "# and prints the inserted value\n",
    "\n",
    "#Buscar como se crea un SP\n",
    "sp = (f\" CREATE OR REPLACE FUNCTION insert_intern (  idp varchar(15),\"\n",
    "        f\" usernamep varchar(4),\"\n",
    "        f\" namep varchar(30),\"\n",
    "        f\" lastnamep varchar(40),\"\n",
    "        f\" agep integer) \"\n",
    "        f\" RETURNS TABLE (idr varchar(15),usernamer varchar(4),namer varchar(30),lastnamer varchar(40),ager integer) \"\n",
    "        f\" AS $$\"\n",
    "        f\" BEGIN\"\n",
    "        f\" insert into InternsInformation values (idp,usernamep,namep,lastnamep,agep);\"\n",
    "        f\" RETURN QUERY \"\n",
    "        f\" SELECT id,username,name,lastname,age FROM InternsInformation WHERE InternsInformation.id = idp ;\"\n",
    "        f\" END; $$ \"\n",
    "        f\" LANGUAGE \\'plpgsql\\';\")\n",
    "\n",
    "cursor.execute(sp)\n",
    "connection.commit()"
   ]
  },
  {
   "cell_type": "markdown",
   "metadata": {},
   "source": [
    "#### Calling the procedure"
   ]
  },
  {
   "cell_type": "code",
   "execution_count": 7,
   "metadata": {},
   "outputs": [
    {
     "name": "stdout",
     "output_type": "stream",
     "text": [
      "('110055252', 'mlsa', 'Melissa', 'Cardenas', 21)\n"
     ]
    }
   ],
   "source": [
    "cursor.callproc('insert_intern',('110055252', 'mlsa', 'Melissa', 'Cardenas', 21,))       \n",
    "row = cursor.fetchone()\n",
    "while row is not None:\n",
    "    print(row)\n",
    "    row = cursor.fetchone()"
   ]
  },
  {
   "cell_type": "code",
   "execution_count": null,
   "metadata": {},
   "outputs": [],
   "source": []
  },
  {
   "cell_type": "code",
   "execution_count": null,
   "metadata": {},
   "outputs": [],
   "source": []
  }
 ],
 "metadata": {
  "kernelspec": {
   "display_name": "Python 3",
   "language": "python",
   "name": "python3"
  },
  "language_info": {
   "codemirror_mode": {
    "name": "ipython",
    "version": 3
   },
   "file_extension": ".py",
   "mimetype": "text/x-python",
   "name": "python",
   "nbconvert_exporter": "python",
   "pygments_lexer": "ipython3",
   "version": "3.7.1"
  }
 },
 "nbformat": 4,
 "nbformat_minor": 2
}
