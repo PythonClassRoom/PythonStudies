{
 "cells": [
  {
   "cell_type": "markdown",
   "metadata": {},
   "source": [
    "# Exceptions\n",
    "\n",
    "As good as a python compiler might be, some errors can sneak by it and make into the running code.\n",
    "Once the line in which the error hides is executed, it rears its ugly head and causes the program to crash."
   ]
  },
  {
   "cell_type": "code",
   "execution_count": 2,
   "metadata": {},
   "outputs": [
    {
     "ename": "ZeroDivisionError",
     "evalue": "division by zero",
     "output_type": "error",
     "traceback": [
      "\u001b[1;31m---------------------------------------------------------------------------\u001b[0m",
      "\u001b[1;31mZeroDivisionError\u001b[0m                         Traceback (most recent call last)",
      "\u001b[1;32m<ipython-input-2-0b280f36835c>\u001b[0m in \u001b[0;36m<module>\u001b[1;34m\u001b[0m\n\u001b[1;32m----> 1\u001b[1;33m \u001b[1;36m10\u001b[0m \u001b[1;33m*\u001b[0m \u001b[1;33m(\u001b[0m\u001b[1;36m1\u001b[0m\u001b[1;33m/\u001b[0m\u001b[1;36m0\u001b[0m\u001b[1;33m)\u001b[0m\u001b[1;33m\u001b[0m\u001b[1;33m\u001b[0m\u001b[0m\n\u001b[0m",
      "\u001b[1;31mZeroDivisionError\u001b[0m: division by zero"
     ]
    }
   ],
   "source": [
    "10 * (1/0)"
   ]
  },
  {
   "cell_type": "markdown",
   "metadata": {},
   "source": [
    "However, not all is lost. Python gives programmers a means to deal with exceptions and prevent from becoming a fatal blow to the\n",
    "program.\n",
    "\n",
    "## Exception Handling\n",
    "\n",
    "Exception handlers are pieces of code whose purpose is to deal with exceptions that might have popped up while the code\n",
    "it watches was running."
   ]
  },
  {
   "cell_type": "code",
   "execution_count": 9,
   "metadata": {},
   "outputs": [
    {
     "name": "stdout",
     "output_type": "stream",
     "text": [
      "Division by zero not allowed, dum dum\n"
     ]
    }
   ],
   "source": [
    "try:\n",
    "    10 * (1/0)\n",
    "except ZeroDivisionError:\n",
    "    print (\"Division by zero not allowed, dum dum\")"
   ]
  },
  {
   "cell_type": "markdown",
   "metadata": {},
   "source": [
    "First, the code encased in the try block will attempt to execute. If successful, well, it does what you expect it to. However, \n",
    "if something goes wrong, the adequate except block will be run, so as to deal with the exception in a more graceful way than \n",
    "having the program crash and burn.\n",
    "\n",
    "However, should an exception arise for which there is no except block, the program will still crash.\n",
    "Ideally, every conceivable type of exception should have dedicated code to deal with it, but a general block can be placed \n",
    "at the end in order to deal with any unexpected exceptions."
   ]
  },
  {
   "cell_type": "code",
   "execution_count": 11,
   "metadata": {},
   "outputs": [
    {
     "name": "stdout",
     "output_type": "stream",
     "text": [
      "Unexpected error detected: <class 'NameError'>\n"
     ]
    }
   ],
   "source": [
    "import sys\n",
    "try:\n",
    "    10 * (1/potato)\n",
    "except ZeroDivisionError:\n",
    "    print (\"Division by zero not allowed, dum dum\")\n",
    "except:\n",
    "    print (\"Unexpected error detected:\", sys.exc_info()[0])"
   ]
  },
  {
   "cell_type": "markdown",
   "metadata": {},
   "source": [
    "## Else\n",
    "\n",
    "Now, you might not want to check for exceptions in all of the code belonging to a given function, maybe because it just won't \n",
    "raise any or any other reason.\n",
    "\n",
    "In such cases, the else block can help you. Code inside this block will be executed should no exceptions raise in the try above it."
   ]
  },
  {
   "cell_type": "code",
   "execution_count": 14,
   "metadata": {},
   "outputs": [
    {
     "name": "stdout",
     "output_type": "stream",
     "text": [
      "Yay, everything ran as expected\n"
     ]
    }
   ],
   "source": [
    "import sys\n",
    "try:\n",
    "    10 * (1/5)\n",
    "except ZeroDivisionError:\n",
    "    print (\"Division by zero not allowed, dum dum\")\n",
    "except:\n",
    "    print (\"Unexpected error detected:\", sys.exc_info()[0])\n",
    "else:\n",
    "    print(\"Yay, everything ran as expected\")"
   ]
  },
  {
   "cell_type": "markdown",
   "metadata": {},
   "source": [
    "## Exception Attributes\n",
    "\n",
    "An exception is an object like any other, and as such it has attributes which can be changed, printed or manipulated in any other way."
   ]
  },
  {
   "cell_type": "code",
   "execution_count": 22,
   "metadata": {},
   "outputs": [
    {
     "name": "stdout",
     "output_type": "stream",
     "text": [
      "<class 'Exception'>\n",
      "('potato', 'fried')\n",
      "('potato', 'fried')\n",
      "('Something', 'broke')\n"
     ]
    }
   ],
   "source": [
    "try:\n",
    "    raise Exception('potato', 'fried')\n",
    "except Exception as inst:\n",
    "    print (type(inst))     # the exception instance\n",
    "    print (inst.args)      # arguments stored in .args\n",
    "    print (inst)\n",
    "    inst.args=(\"Something\",\"broke\")\n",
    "    print (inst.args)"
   ]
  },
  {
   "cell_type": "markdown",
   "metadata": {},
   "source": [
    "## Raising exceptions\n",
    "\n",
    "If, for whatever reason, you need to forcibly raise a certain instruction, this method allows you to do just that.\n",
    "It requires the name of the exception instance you need, or any other that derives from Exception, meaning you can create your very own exceptions, and the detail of the exception."
   ]
  },
  {
   "cell_type": "code",
   "execution_count": 23,
   "metadata": {},
   "outputs": [
    {
     "name": "stdout",
     "output_type": "stream",
     "text": [
      "Really? Again?\n"
     ]
    }
   ],
   "source": [
    "try:\n",
    "    raise ZeroDivisionError(\"Dummy\")\n",
    "except ZeroDivisionError:\n",
    "    print (\"Really? Again?\")"
   ]
  },
  {
   "cell_type": "code",
   "execution_count": 24,
   "metadata": {},
   "outputs": [
    {
     "name": "stdout",
     "output_type": "stream",
     "text": [
      "What have I done\n"
     ]
    }
   ],
   "source": [
    "class NewError (Exception):\n",
    "    def __init__(self, value):\n",
    "        self.value = value\n",
    "    def __str__(self):\n",
    "        return repr(self.value)\n",
    "    \n",
    "try: \n",
    "    raise NewError(\"Potato\")\n",
    "except:\n",
    "    print (\"What have I done\")"
   ]
  },
  {
   "cell_type": "markdown",
   "metadata": {},
   "source": [
    "## Finally\n",
    "\n",
    "We get to the end. The code in this block will execute no matter what happens. Exception or not, this code will run.\n",
    "This is useful for when some sort of clean-up is needed. Say some memory must be freed or some kind of message be sent to protect the program from further errors."
   ]
  },
  {
   "cell_type": "code",
   "execution_count": 26,
   "metadata": {},
   "outputs": [
    {
     "name": "stdout",
     "output_type": "stream",
     "text": [
      "Really? Again?\n",
      "Let me fix that for you\n",
      "2.0\n"
     ]
    }
   ],
   "source": [
    "try:\n",
    "    10 * (1/0)\n",
    "except ZeroDivisionError:\n",
    "    print (\"Really? Again?\")\n",
    "finally:\n",
    "    print (\"Let me fix that for you\")\n",
    "    print (10 *(1/5))"
   ]
  },
  {
   "cell_type": "code",
   "execution_count": null,
   "metadata": {},
   "outputs": [],
   "source": []
  }
 ],
 "metadata": {
  "kernelspec": {
   "display_name": "Python 3",
   "language": "python",
   "name": "python3"
  },
  "language_info": {
   "codemirror_mode": {
    "name": "ipython",
    "version": 3
   },
   "file_extension": ".py",
   "mimetype": "text/x-python",
   "name": "python",
   "nbconvert_exporter": "python",
   "pygments_lexer": "ipython3",
   "version": "3.7.1"
  }
 },
 "nbformat": 4,
 "nbformat_minor": 2
}
