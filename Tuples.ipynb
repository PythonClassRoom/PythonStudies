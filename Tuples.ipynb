{
 "cells": [
  {
   "cell_type": "markdown",
   "metadata": {},
   "source": [
    "# Tuples\n",
    "  \n",
    "  Tuples are like list, but they are not mutable, that means you cannot change any value of one particular element when you create the tuple object.\n",
    "  In contrast with the regular list, Tuples are created with parentheses"
   ]
  },
  {
   "cell_type": "code",
   "execution_count": 8,
   "metadata": {},
   "outputs": [
    {
     "name": "stdout",
     "output_type": "stream",
     "text": [
      "(1, 2, 3)\n",
      "('Hello World', 2, 5.3, [1, 23])\n",
      "<class 'tuple'>\n"
     ]
    }
   ],
   "source": [
    "myTuple = (1,2,3)\n",
    "myTuple2 = (\"Hello World\",2,5.3,[1,23])\n",
    "myTuple3 = 1,2,3,4\n",
    "print(myTuple)\n",
    "print(myTuple2)\n",
    "print(type(myTuple3))"
   ]
  },
  {
   "cell_type": "markdown",
   "metadata": {},
   "source": [
    "As you can see, you are able to add any type of object into a tuple"
   ]
  },
  {
   "cell_type": "markdown",
   "metadata": {},
   "source": [
    "## Accesing to objects\n",
    "As list, we access to the elements with brakets"
   ]
  },
  {
   "cell_type": "code",
   "execution_count": 7,
   "metadata": {},
   "outputs": [
    {
     "name": "stdout",
     "output_type": "stream",
     "text": [
      "2\n",
      "(2, 5.3)\n"
     ]
    }
   ],
   "source": [
    "print (myTuple[1])\n",
    "print (myTuple2[1:3])"
   ]
  },
  {
   "cell_type": "markdown",
   "metadata": {},
   "source": [
    "## Updating\n",
    "As we mentioned before, we cant modify the state of a tuple, what we can do es to convert it into a list, modify it and then, convert it back into a tuple"
   ]
  },
  {
   "cell_type": "code",
   "execution_count": 17,
   "metadata": {},
   "outputs": [
    {
     "name": "stdout",
     "output_type": "stream",
     "text": [
      "<class 'list'>\n",
      "(1, 999, 3, 4)\n"
     ]
    }
   ],
   "source": [
    "myTupleList = list(myTuple3) # or myTupleList = [*myTuple3] (Using unpacking)\n",
    "print(type(myTupleList))\n",
    "myTupleList[1] = 999\n",
    "myTuple3 = tuple(myTupleList)\n",
    "print(myTuple3)"
   ]
  },
  {
   "cell_type": "code",
   "execution_count": null,
   "metadata": {},
   "outputs": [],
   "source": []
  },
  {
   "cell_type": "code",
   "execution_count": 15,
   "metadata": {},
   "outputs": [],
   "source": []
  },
  {
   "cell_type": "code",
   "execution_count": null,
   "metadata": {},
   "outputs": [],
   "source": []
  },
  {
   "cell_type": "code",
   "execution_count": null,
   "metadata": {},
   "outputs": [],
   "source": []
  }
 ],
 "metadata": {
  "kernelspec": {
   "display_name": "Python 3",
   "language": "python",
   "name": "python3"
  },
  "language_info": {
   "codemirror_mode": {
    "name": "ipython",
    "version": 3
   },
   "file_extension": ".py",
   "mimetype": "text/x-python",
   "name": "python",
   "nbconvert_exporter": "python",
   "pygments_lexer": "ipython3",
   "version": "3.7.1"
  }
 },
 "nbformat": 4,
 "nbformat_minor": 2
}
