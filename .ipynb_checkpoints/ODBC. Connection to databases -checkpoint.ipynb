{
 "cells": [
  {
   "cell_type": "markdown",
   "metadata": {},
   "source": [
    "# ODBC. Connection to databases "
   ]
  },
  {
   "cell_type": "markdown",
   "metadata": {},
   "source": [
    "## Connection to PostgreSQL server with Psycopg2\n",
    "Installation Psycopg2: pip install psycopg2 (psycopg2==2.7.7)"
   ]
  },
  {
   "cell_type": "markdown",
   "metadata": {},
   "source": [
    "## Creating the connection to PostgreSQL database"
   ]
  },
  {
   "cell_type": "code",
   "execution_count": 105,
   "metadata": {},
   "outputs": [],
   "source": [
    "import psycopg2\n",
    "from psycopg2 import Error\n",
    "try:\n",
    "    connection = psycopg2.connect(user = \"postgres\",\n",
    "                                  password = \"root\",\n",
    "                                  host = \"127.0.0.1\",\n",
    "                                  port = \"5432\",\n",
    "                                  database = \"Interns\")\n",
    "    \n",
    "    cursor = connection.cursor() #Handles the connection\n",
    "\n",
    "except (Exception, psycopg2.DatabaseError) as error :\n",
    "    print (\"Error while opening\", error)"
   ]
  },
  {
   "cell_type": "markdown",
   "metadata": {},
   "source": [
    "## Close the connection"
   ]
  },
  {
   "cell_type": "code",
   "execution_count": 104,
   "metadata": {},
   "outputs": [
    {
     "name": "stdout",
     "output_type": "stream",
     "text": [
      "PostgreSQL connection is closed\n"
     ]
    }
   ],
   "source": [
    "#closing database connection.\n",
    "if(connection):\n",
    "    cursor.close()\n",
    "    connection.close()\n",
    "    print(\"PostgreSQL connection is closed\")"
   ]
  },
  {
   "cell_type": "markdown",
   "metadata": {},
   "source": [
    "## Query data"
   ]
  },
  {
   "cell_type": "markdown",
   "metadata": {},
   "source": [
    "#### Creating a new table"
   ]
  },
  {
   "cell_type": "code",
   "execution_count": 106,
   "metadata": {},
   "outputs": [
    {
     "name": "stdout",
     "output_type": "stream",
     "text": [
      "Table created successfully in PostgreSQL \n"
     ]
    }
   ],
   "source": [
    "createTable = '''create table InternsInformation(\n",
    "                    id varchar(15),\n",
    "                    username varchar(4),\n",
    "                    name varchar(30),\n",
    "                    lastname varchar(40),\n",
    "                    age integer\n",
    "                );'''\n",
    "\n",
    "cursor.execute(createTable)\n",
    "connection.commit()\n",
    "print(\"Table created successfully in PostgreSQL \")"
   ]
  },
  {
   "cell_type": "markdown",
   "metadata": {},
   "source": [
    "#### Inserting data into a table"
   ]
  },
  {
   "cell_type": "code",
   "execution_count": 107,
   "metadata": {},
   "outputs": [
    {
     "name": "stdout",
     "output_type": "stream",
     "text": [
      "1 Record inserted successfully into InternsInformation table\n",
      "1 Record inserted successfully into InternsInformation table\n",
      "1 Record inserted successfully into InternsInformation table\n",
      "1 Record inserted successfully into InternsInformation table\n"
     ]
    }
   ],
   "source": [
    "# the data set\n",
    "interns = [\n",
    "    ('402310453','asge','Andres','Gutierrez',23),\n",
    "    ('123456790','cope','Carlos','Portuguez',22),\n",
    "    ('546413431','dima','David','Morales',22),\n",
    "    ('189146131','waee','William','Espinoza',22),\n",
    "]\n",
    "for intern in interns:\n",
    "    insert = (f\"insert into InternsInformation (id,username,name,lastname,age)\" \n",
    "              f\"values (\\'{intern[0]}\\',\\'{intern[1]}\\',\\'{intern[2]}\\',\\'{intern[3]}\\',{intern[4]});\")\n",
    "    cursor.execute(insert)\n",
    "    connection.commit()\n",
    "    count = cursor.rowcount\n",
    "    print (count, \"Record inserted successfully into InternsInformation table\")"
   ]
  },
  {
   "cell_type": "markdown",
   "metadata": {},
   "source": [
    "#### Select data from a table"
   ]
  },
  {
   "cell_type": "code",
   "execution_count": 112,
   "metadata": {},
   "outputs": [
    {
     "name": "stdout",
     "output_type": "stream",
     "text": [
      "Selecting rows from InternsInformation table using cursor.fetchall\n",
      "Print each row and it's columns values\n",
      "('402310453', 'asge', 'Andres', 'Gutierrez', 23)\n",
      "('123456790', 'cope', 'Carlos', 'Portuguez', 22)\n",
      "('546413431', 'dima', 'David', 'Morales', 22)\n",
      "('189146131', 'waee', 'William', 'Espinoza', 22)\n",
      "('110055252', 'mlsa', 'Melissa', 'Cardenas', 21)\n"
     ]
    }
   ],
   "source": [
    "# the SQL QUERY\n",
    "postgreSQL_select_Query = \"select * from InternsInformation\"\n",
    "\n",
    "cursor.execute(postgreSQL_select_Query)\n",
    "print(\"Selecting rows from InternsInformation table using cursor.fetchall\")\n",
    "records = cursor.fetchall() \n",
    "\n",
    "print(\"Print each row and it's columns values\")\n",
    "for row in records:\n",
    "   print(row)\n",
    "\n",
    "# As you can see, it returns a tuple, so we can use all the built-in methods for tuples (e.g. [])"
   ]
  },
  {
   "cell_type": "markdown",
   "metadata": {},
   "source": [
    "## Lets create a dataframe with Pandas"
   ]
  },
  {
   "cell_type": "code",
   "execution_count": 75,
   "metadata": {},
   "outputs": [],
   "source": [
    "import pandas as pd"
   ]
  },
  {
   "cell_type": "markdown",
   "metadata": {},
   "source": [
    "## Executing a stored procedured"
   ]
  },
  {
   "cell_type": "code",
   "execution_count": 109,
   "metadata": {},
   "outputs": [
    {
     "data": {
      "text/plain": [
       "''"
      ]
     },
     "execution_count": 109,
     "metadata": {},
     "output_type": "execute_result"
    }
   ],
   "source": [
    "# insert_intern procedure perform an insert of a intern into the InternsInformation table\n",
    "# and prints the inserted value\n",
    "\n",
    "'''\n",
    "CREATE OR REPLACE FUNCTION insert_intern (  idp varchar(15),\n",
    "\t\t\t\t\t\t\t\t\t\t\tusernamep varchar(4),\n",
    "\t\t\t\t\t\t\t\t\t\t\tnamep varchar(30),\n",
    "\t\t\t\t\t\t\t\t\t\t\tlastnamep varchar(40),\n",
    "\t\t\t\t\t\t\t\t\t\t\tagep integer) \n",
    " RETURNS TABLE (idr varchar(15),usernamer varchar(4),namer varchar(30),lastnamer varchar(40),ager integer) \n",
    "AS $$\n",
    "BEGIN\n",
    "\tinsert into InternsInformation values (idp,usernamep,namep,lastnamep,agep);\n",
    "\tRETURN QUERY \n",
    "\tSELECT id,username,name,lastname,age FROM InternsInformation WHERE InternsInformation.id = idp ;\n",
    "END; $$ \n",
    "LANGUAGE 'plpgsql';\n",
    "'''\n",
    ";"
   ]
  },
  {
   "cell_type": "markdown",
   "metadata": {},
   "source": [
    "#### Calling the procedure"
   ]
  },
  {
   "cell_type": "code",
   "execution_count": 111,
   "metadata": {},
   "outputs": [
    {
     "name": "stdout",
     "output_type": "stream",
     "text": [
      "(5,)\n"
     ]
    }
   ],
   "source": [
    "cursor.callproc('insert_intern',('110055252', 'mlsa', 'Melissa', 'Cardenas', 21,))       \n",
    "row = cursor.fetchone()\n",
    "while row is not None:\n",
    "    print(row)\n",
    "    row = cursor.fetchone()"
   ]
  },
  {
   "cell_type": "code",
   "execution_count": 110,
   "metadata": {},
   "outputs": [
    {
     "name": "stdout",
     "output_type": "stream",
     "text": [
      "(4,)\n"
     ]
    }
   ],
   "source": []
  },
  {
   "cell_type": "code",
   "execution_count": null,
   "metadata": {},
   "outputs": [],
   "source": []
  }
 ],
 "metadata": {
  "kernelspec": {
   "display_name": "Python 3",
   "language": "python",
   "name": "python3"
  },
  "language_info": {
   "codemirror_mode": {
    "name": "ipython",
    "version": 3
   },
   "file_extension": ".py",
   "mimetype": "text/x-python",
   "name": "python",
   "nbconvert_exporter": "python",
   "pygments_lexer": "ipython3",
   "version": "3.7.1"
  }
 },
 "nbformat": 4,
 "nbformat_minor": 2
}
