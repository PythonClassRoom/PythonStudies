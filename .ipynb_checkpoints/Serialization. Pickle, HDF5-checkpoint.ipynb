{
 "cells": [
  {
   "cell_type": "markdown",
   "metadata": {},
   "source": [
    "# Serialization (Pickle & HDF5)\n",
    "##### https://www.datacamp.com/community/tutorials/pickle-python-tutorial\n",
    "The process to convert memory data into other format data that can be storage\n",
    "The formats can be JSON,csv,plain text and more"
   ]
  },
  {
   "cell_type": "markdown",
   "metadata": {},
   "source": [
    "# 1) Pickle\n",
    "It is a object that allows serializing and de-serializing  \n",
    "It is a Python standar, so it will not work on other lenguages aproach, keep that on mind\n",
    "Booleans,  \n",
    "Integers,  \n",
    "Floats,  \n",
    "Complex numbers,  \n",
    "(normal and Unicode) Strings,  \n",
    "Tuples,  \n",
    "Lists,  \n",
    "Sets, and Dictionaries that ontain picklable objects.  "
   ]
  },
  {
   "cell_type": "markdown",
   "metadata": {},
   "source": [
    "## Pickling a list"
   ]
  },
  {
   "cell_type": "code",
   "execution_count": null,
   "metadata": {},
   "outputs": [],
   "source": [
    "import pickle\n",
    "\n",
    "myList = [1,2.2,\"Hello World\",True,]\n",
    "\n",
    "filename = 'C:\\\\Users\\\\asge\\\\Desktop\\\\list'\n",
    "\n",
    "outfile = open(filename,'wb') #Creating a stream for serialization, 'wb' stands for writting & binary\n",
    "\n",
    "pickle.dump(myList,outfile) #Actual serialization\n",
    "\n",
    "outfile.close() # Close the stream\n"
   ]
  },
  {
   "cell_type": "markdown",
   "metadata": {},
   "source": [
    "## Unpickling the list"
   ]
  },
  {
   "cell_type": "code",
   "execution_count": null,
   "metadata": {},
   "outputs": [],
   "source": [
    "infile = open(filename,'rb') # 'rb' stands for reading & binary\n",
    "\n",
    "fromPickledList = pickle.load(infile) #open the stream\n",
    "\n",
    "infile.close()\n",
    "\n",
    "print(fromPickledList)"
   ]
  },
  {
   "cell_type": "markdown",
   "metadata": {},
   "source": [
    "## Pickling classes"
   ]
  },
  {
   "cell_type": "code",
   "execution_count": null,
   "metadata": {},
   "outputs": [],
   "source": [
    "class Person:\n",
    "    def __init__(self,name,age):\n",
    "        self.name = name\n",
    "        self.age = age\n",
    "        \n",
    "    def __repr__(self):\n",
    "        return f'{{Name: {self.name} Age:{self.age}}}'\n",
    "        \n",
    "    def __str__(self):\n",
    "        return f'{{Name: {self.name} Age:{self.age}}}'\n",
    "       \n",
    "        \n",
    "person = Person('Andres',23)\n",
    "print(person)\n",
    "\n",
    "filename = 'C:\\\\Users\\\\asge\\\\Desktop\\\\person'\n",
    "outfile = open(filename,'wb') #Creating a stream for serialization, 'wb' stands for writting & binary\n",
    "\n",
    "pickle.dump(person,outfile) #Actual serialization\n",
    "\n",
    "outfile.close() # Close the stream\n",
    "\n",
    "        "
   ]
  },
  {
   "cell_type": "markdown",
   "metadata": {},
   "source": [
    "## Unpicling a object"
   ]
  },
  {
   "cell_type": "code",
   "execution_count": null,
   "metadata": {},
   "outputs": [],
   "source": [
    "infile = open(filename,'rb') # 'rb' stands for reading & binary\n",
    "\n",
    "fromPickledObject = pickle.load(infile) #open the stream\n",
    "\n",
    "infile.close()\n",
    "\n",
    "print(fromPickledObject)"
   ]
  },
  {
   "cell_type": "markdown",
   "metadata": {},
   "source": [
    "# 2) HDF5\n",
    "HDF5 is a unique technology suite that makes possible the management of extremely large and complex data collections.\n",
    "https://support.hdfgroup.org/HDF5/examples/intro.html#python"
   ]
  },
  {
   "cell_type": "code",
   "execution_count": null,
   "metadata": {},
   "outputs": [],
   "source": [
    "import numpy as np\n",
    "import h5py"
   ]
  },
  {
   "cell_type": "code",
   "execution_count": null,
   "metadata": {},
   "outputs": [],
   "source": [
    "a = np.arange(10000).reshape(100,100)\n",
    "a"
   ]
  },
  {
   "cell_type": "markdown",
   "metadata": {},
   "source": [
    "## Creating a file, save it and recover it"
   ]
  },
  {
   "cell_type": "code",
   "execution_count": null,
   "metadata": {},
   "outputs": [],
   "source": [
    "filepath = 'C:\\\\Users\\\\asge\\\\Desktop\\\\dset.h5'\n",
    "\n",
    "file = h5py.File(filepath,'w') # w stands for writing\n",
    "dataset = file.create_dataset(\"dset\",data=a)\n",
    "\n",
    "print (\"Dataset dataspace is\", dataset.shape)\n",
    "print (\"Dataset Numpy datatype is\", dataset.dtype)\n",
    "print (\"Dataset name is\", dataset.name)\n",
    "print (\"Dataset is a member of the group\", dataset.parent)\n",
    "print (\"Dataset was created in the file\", dataset.file)\n",
    "#\n",
    "# Close the file before exiting\n",
    "#\n",
    "file.close()"
   ]
  },
  {
   "cell_type": "markdown",
   "metadata": {},
   "source": [
    "#### Reading a file"
   ]
  },
  {
   "cell_type": "code",
   "execution_count": null,
   "metadata": {},
   "outputs": [],
   "source": [
    "file = h5py.File(filepath,'r') # r stands for reading\n",
    "print( file.keys() ) # prints the list of data we save into ahore file .h5\n",
    "m = file.get('dset')\n",
    "m = np.array(m)\n",
    "print(m)\n",
    "file.close()"
   ]
  },
  {
   "cell_type": "markdown",
   "metadata": {},
   "source": [
    "## Groups\n",
    "Set of data can be grouped depending of the logic you need  \n",
    "The next histogram will be necessary for the next example\n",
    "\n",
    "Inspired by https://www.youtube.com/channel/UCNYv4HA3WjV3gZGLfBehRWQ"
   ]
  },
  {
   "cell_type": "code",
   "execution_count": 1,
   "metadata": {},
   "outputs": [
    {
     "data": {
      "text/plain": [
       "<Figure size 640x480 with 1 Axes>"
      ]
     },
     "metadata": {},
     "output_type": "display_data"
    }
   ],
   "source": [
    "import numpy as np\n",
    "import matplotlib.pyplot as plt\n",
    "\n",
    "v = np.random.random(10000)\n",
    "\n",
    "plt.hist(v, bins=50, density=1)       # matplotlib version (plot)\n",
    "\n",
    "plt.show()"
   ]
  },
  {
   "cell_type": "markdown",
   "metadata": {},
   "source": [
    "#### Creating a group"
   ]
  },
  {
   "cell_type": "code",
   "execution_count": null,
   "metadata": {},
   "outputs": [],
   "source": [
    "with h5py.File(filepath,'w') as hdf5:\n",
    "    #Creating groups\n",
    "    matrixesGroup = hdf5.create_group('matrixes')\n",
    "    histogramsGroup = hdf5.create_group('histograms')\n",
    "    #Inserting data into the groups\n",
    "    matrixesGroup.create_dataset('matrix1000',data=np.arange(10000).reshape(100,100));\n",
    "    matrixesGroup.create_dataset('matrix2000',data=np.arange(20000).reshape(200,100));\n",
    "    #\n",
    "    histogramsGroup.create_dataset('randomHistogram', data=v)\n",
    "\n",
    "#closing file is no longer necessesary \n",
    "#file.close()\n"
   ]
  },
  {
   "cell_type": "markdown",
   "metadata": {},
   "source": [
    "#### Reading from groups"
   ]
  },
  {
   "cell_type": "code",
   "execution_count": null,
   "metadata": {},
   "outputs": [],
   "source": [
    "with h5py.File(filepath,'r') as hdf5:\n",
    "    #Getting all the groups\n",
    "    groupItems = list(hdf5.items())\n",
    "    print('Items: ', groupItems, sep=' - ')\n",
    "    \n",
    "    #Getting the groups printed above\n",
    "    histograms = hdf5.get('histograms')\n",
    "    myHistogram = histograms.get('randomHistogram')\n",
    "    myHistogram = np.array(myHistogram)\n",
    "    #Showing the histogram\n",
    "    plt.hist(myHistogram, bins=50, density=1)       # matplotlib version (plot)\n",
    "    plt.show()\n",
    "    \n",
    "    #Recover from the other group\n",
    "    matrixes = hdf5.get('matrixes')\n",
    "    matrix1000 = np.array(matrixes.get('matrix1000')) #converting into an array\n",
    "    \n",
    "    print(matrix1000)"
   ]
  },
  {
   "cell_type": "markdown",
   "metadata": {},
   "source": [
    "## HDF5 using Pandas"
   ]
  },
  {
   "cell_type": "code",
   "execution_count": 2,
   "metadata": {},
   "outputs": [],
   "source": [
    "import pandas as pd"
   ]
  },
  {
   "cell_type": "markdown",
   "metadata": {},
   "source": [
    "#### Creating a dataframe in order to save int a HDF5 file"
   ]
  },
  {
   "cell_type": "code",
   "execution_count": 3,
   "metadata": {},
   "outputs": [],
   "source": [
    "example_dict = {\n",
    "    'name' : [\"annie\", \"bob\", \"charlie\", \"damon\", \"erick\",\"fry\", \"goldman\"],\n",
    "    'age' : [20,27, 35, 55, 18, 21, 35],\n",
    "    'designation': [\"VP\", \"CEO\", \"CFO\", \"VP\", \"VP\", \"CEO\", \"MD\"]\n",
    "}"
   ]
  },
  {
   "cell_type": "code",
   "execution_count": 4,
   "metadata": {},
   "outputs": [
    {
     "data": {
      "text/html": [
       "<div>\n",
       "<style scoped>\n",
       "    .dataframe tbody tr th:only-of-type {\n",
       "        vertical-align: middle;\n",
       "    }\n",
       "\n",
       "    .dataframe tbody tr th {\n",
       "        vertical-align: top;\n",
       "    }\n",
       "\n",
       "    .dataframe thead th {\n",
       "        text-align: right;\n",
       "    }\n",
       "</style>\n",
       "<table border=\"1\" class=\"dataframe\">\n",
       "  <thead>\n",
       "    <tr style=\"text-align: right;\">\n",
       "      <th></th>\n",
       "      <th>name</th>\n",
       "      <th>age</th>\n",
       "      <th>designation</th>\n",
       "    </tr>\n",
       "  </thead>\n",
       "  <tbody>\n",
       "    <tr>\n",
       "      <th>0</th>\n",
       "      <td>annie</td>\n",
       "      <td>20</td>\n",
       "      <td>VP</td>\n",
       "    </tr>\n",
       "    <tr>\n",
       "      <th>1</th>\n",
       "      <td>bob</td>\n",
       "      <td>27</td>\n",
       "      <td>CEO</td>\n",
       "    </tr>\n",
       "    <tr>\n",
       "      <th>2</th>\n",
       "      <td>charlie</td>\n",
       "      <td>35</td>\n",
       "      <td>CFO</td>\n",
       "    </tr>\n",
       "    <tr>\n",
       "      <th>3</th>\n",
       "      <td>damon</td>\n",
       "      <td>55</td>\n",
       "      <td>VP</td>\n",
       "    </tr>\n",
       "    <tr>\n",
       "      <th>4</th>\n",
       "      <td>erick</td>\n",
       "      <td>18</td>\n",
       "      <td>VP</td>\n",
       "    </tr>\n",
       "    <tr>\n",
       "      <th>5</th>\n",
       "      <td>fry</td>\n",
       "      <td>21</td>\n",
       "      <td>CEO</td>\n",
       "    </tr>\n",
       "    <tr>\n",
       "      <th>6</th>\n",
       "      <td>goldman</td>\n",
       "      <td>35</td>\n",
       "      <td>MD</td>\n",
       "    </tr>\n",
       "  </tbody>\n",
       "</table>\n",
       "</div>"
      ],
      "text/plain": [
       "      name  age designation\n",
       "0    annie   20          VP\n",
       "1      bob   27         CEO\n",
       "2  charlie   35         CFO\n",
       "3    damon   55          VP\n",
       "4    erick   18          VP\n",
       "5      fry   21         CEO\n",
       "6  goldman   35          MD"
      ]
     },
     "execution_count": 4,
     "metadata": {},
     "output_type": "execute_result"
    }
   ],
   "source": [
    "pandas_dataframe = pd.DataFrame(example_dict)\n",
    "pandas_dataframe"
   ]
  },
  {
   "cell_type": "code",
   "execution_count": 19,
   "metadata": {},
   "outputs": [],
   "source": [
    "from pandas import HDFStore\n",
    "filepath = 'C:\\\\Users\\\\asge\\\\Desktop\\\\pandas1.h5'\n",
    "pandas_dataframe.to_hdf(filepath, key='df')"
   ]
  },
  {
   "cell_type": "code",
   "execution_count": 20,
   "metadata": {},
   "outputs": [
    {
     "data": {
      "text/html": [
       "<div>\n",
       "<style scoped>\n",
       "    .dataframe tbody tr th:only-of-type {\n",
       "        vertical-align: middle;\n",
       "    }\n",
       "\n",
       "    .dataframe tbody tr th {\n",
       "        vertical-align: top;\n",
       "    }\n",
       "\n",
       "    .dataframe thead th {\n",
       "        text-align: right;\n",
       "    }\n",
       "</style>\n",
       "<table border=\"1\" class=\"dataframe\">\n",
       "  <thead>\n",
       "    <tr style=\"text-align: right;\">\n",
       "      <th></th>\n",
       "      <th>name</th>\n",
       "      <th>age</th>\n",
       "      <th>designation</th>\n",
       "    </tr>\n",
       "  </thead>\n",
       "  <tbody>\n",
       "    <tr>\n",
       "      <th>0</th>\n",
       "      <td>annie</td>\n",
       "      <td>20</td>\n",
       "      <td>VP</td>\n",
       "    </tr>\n",
       "    <tr>\n",
       "      <th>1</th>\n",
       "      <td>bob</td>\n",
       "      <td>27</td>\n",
       "      <td>CEO</td>\n",
       "    </tr>\n",
       "    <tr>\n",
       "      <th>2</th>\n",
       "      <td>charlie</td>\n",
       "      <td>35</td>\n",
       "      <td>CFO</td>\n",
       "    </tr>\n",
       "    <tr>\n",
       "      <th>3</th>\n",
       "      <td>damon</td>\n",
       "      <td>55</td>\n",
       "      <td>VP</td>\n",
       "    </tr>\n",
       "    <tr>\n",
       "      <th>4</th>\n",
       "      <td>erick</td>\n",
       "      <td>18</td>\n",
       "      <td>VP</td>\n",
       "    </tr>\n",
       "    <tr>\n",
       "      <th>5</th>\n",
       "      <td>fry</td>\n",
       "      <td>21</td>\n",
       "      <td>CEO</td>\n",
       "    </tr>\n",
       "    <tr>\n",
       "      <th>6</th>\n",
       "      <td>goldman</td>\n",
       "      <td>35</td>\n",
       "      <td>MD</td>\n",
       "    </tr>\n",
       "  </tbody>\n",
       "</table>\n",
       "</div>"
      ],
      "text/plain": [
       "      name  age designation\n",
       "0    annie   20          VP\n",
       "1      bob   27         CEO\n",
       "2  charlie   35         CFO\n",
       "3    damon   55          VP\n",
       "4    erick   18          VP\n",
       "5      fry   21         CEO\n",
       "6  goldman   35          MD"
      ]
     },
     "execution_count": 20,
     "metadata": {},
     "output_type": "execute_result"
    }
   ],
   "source": [
    "pd.read_hdf(filepath, 'df')"
   ]
  },
  {
   "cell_type": "code",
   "execution_count": null,
   "metadata": {},
   "outputs": [],
   "source": []
  },
  {
   "cell_type": "code",
   "execution_count": null,
   "metadata": {},
   "outputs": [],
   "source": []
  },
  {
   "cell_type": "code",
   "execution_count": null,
   "metadata": {},
   "outputs": [],
   "source": []
  }
 ],
 "metadata": {
  "kernelspec": {
   "display_name": "Python 3",
   "language": "python",
   "name": "python3"
  },
  "language_info": {
   "codemirror_mode": {
    "name": "ipython",
    "version": 3
   },
   "file_extension": ".py",
   "mimetype": "text/x-python",
   "name": "python",
   "nbconvert_exporter": "python",
   "pygments_lexer": "ipython3",
   "version": "3.7.1"
  }
 },
 "nbformat": 4,
 "nbformat_minor": 2
}
