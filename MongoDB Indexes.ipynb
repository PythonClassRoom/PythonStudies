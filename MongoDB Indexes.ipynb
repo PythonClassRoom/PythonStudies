{
 "cells": [
  {
   "cell_type": "markdown",
   "metadata": {},
   "source": [
    "# MongoDB Indexes\n",
    "#### examples taken from http://img105.job1001.com/upload/adminnew/2015-04-07/1428393873-MHKX3LN.pdf"
   ]
  },
  {
   "cell_type": "markdown",
   "metadata": {},
   "source": [
    "MongoDB offers two kinds of indexes:\n",
    "<ol>\n",
    "    Can be compound\n",
    "    <li>Btree indexes</li>\n",
    "    <ul>\n",
    "        <li>Btree index</li>\n",
    "        <li>Unique index</li>\n",
    "    </ul>\n",
    "    <li>Geospatial indexes</li> \n",
    "</ol>\n"
   ]
  },
  {
   "cell_type": "markdown",
   "metadata": {},
   "source": [
    "## Creating and Mongo connection with pymongo driver (pymongo==3.7.2)"
   ]
  },
  {
   "cell_type": "code",
   "execution_count": 86,
   "metadata": {},
   "outputs": [
    {
     "name": "stdout",
     "output_type": "stream",
     "text": [
      "Connected successfully to Mongo\n"
     ]
    }
   ],
   "source": [
    "import sys\n",
    "import pymongo\n",
    "from pymongo import MongoClient\n",
    "from pymongo.errors import ConnectionFailure\n",
    "\n",
    "try:\n",
    "    #Creating the connection client\n",
    "    c = MongoClient(host=\"localhost\", port=27017)\n",
    "    #selecting the db\n",
    "    myDb = c[\"test\"]\n",
    "    #Selection the collection (in sql = table)\n",
    "    myCol = myDb[\"users\"]\n",
    "    #returning the connection obj\n",
    "    print(\"Connected successfully to Mongo\")\n",
    "except (ConnectionFailure, e):\n",
    "    sys.stderr.write(\"Could not connect to MongoDB: %s\" % e)\n",
    "    sys.exit(1)"
   ]
  },
  {
   "cell_type": "markdown",
   "metadata": {},
   "source": [
    "## To create an index, we use the create_index method\n",
    "\n",
    "The mandatory parameter is the property you want to be indexed\n",
    "We can configure some tags in order to use specific behavior\n",
    "<ul>\n",
    "    <li><b>name=\"indexName\":</b> To give a custom name, it will helps to drop the index by index name</li>\n",
    "    <li><b>background=True:</b> To specify that an index should be built in the background </li>\n",
    "    <li><b>unique=True:</b> To create an index with a unique constraint </li>\n",
    "</ul>"
   ]
  },
  {
   "cell_type": "code",
   "execution_count": 87,
   "metadata": {},
   "outputs": [],
   "source": [
    "#Document\n",
    "user_doc = {\n",
    " \"username\":\"goouser\",\n",
    " \"emails\":[\n",
    " {\n",
    " \"email\":\"goouser1@example.com\",\n",
    " \"primary\":True\n",
    " },\n",
    " {\n",
    " \"email\":\"goouser2@example2.com\",\n",
    " \"primary\":False\n",
    " },\n",
    " {\n",
    " \"email\":\"goouser3@example3.com\",\n",
    " \"primary\":False\n",
    " }\n",
    " ]\n",
    "}\n"
   ]
  },
  {
   "cell_type": "code",
   "execution_count": 88,
   "metadata": {},
   "outputs": [],
   "source": [
    "#Document\n",
    "user_doc2 = {\n",
    " \"username\":\"foouser\",\n",
    " \"emails\":[\n",
    " {\n",
    " \"email\":\"foouser1@example.com\",\n",
    " \"primary\":True\n",
    " },\n",
    " {\n",
    " \"email\":\"foouser2@example2.com\",\n",
    " \"primary\":False\n",
    " },\n",
    " {\n",
    " \"email\":\"foouser3@example3.com\",\n",
    " \"primary\":False\n",
    " }\n",
    " ]\n",
    "}"
   ]
  },
  {
   "cell_type": "code",
   "execution_count": 89,
   "metadata": {},
   "outputs": [
    {
     "data": {
      "text/plain": [
       "<pymongo.results.InsertOneResult at 0x214ec7c89c8>"
      ]
     },
     "execution_count": 89,
     "metadata": {},
     "output_type": "execute_result"
    }
   ],
   "source": [
    "#Deleting previous documents\n",
    "myDb.users.drop()\n",
    "#inserting the documento into MongoDB\n",
    "myDb.users.insert_one(user_doc)\n",
    "myDb.users.insert_one(user_doc2)"
   ]
  },
  {
   "cell_type": "markdown",
   "metadata": {},
   "source": [
    "## Creating and index on username property"
   ]
  },
  {
   "cell_type": "code",
   "execution_count": 90,
   "metadata": {},
   "outputs": [
    {
     "data": {
      "text/plain": [
       "'username_idx'"
      ]
     },
     "execution_count": 90,
     "metadata": {},
     "output_type": "execute_result"
    }
   ],
   "source": [
    "myDb.users.create_index(\"username\", unique=True, name=\"username_idx\" )"
   ]
  },
  {
   "cell_type": "markdown",
   "metadata": {},
   "source": [
    "## Showing Collection's indexes"
   ]
  },
  {
   "cell_type": "code",
   "execution_count": 8,
   "metadata": {},
   "outputs": [
    {
     "data": {
      "text/plain": [
       "{'_id_': {'v': 2, 'key': [('_id', 1)], 'ns': 'test.users'},\n",
       " 'username_idx': {'v': 2,\n",
       "  'unique': True,\n",
       "  'key': [('username', 1)],\n",
       "  'ns': 'test.users'}}"
      ]
     },
     "execution_count": 8,
     "metadata": {},
     "output_type": "execute_result"
    }
   ],
   "source": [
    "myDb.users.index_information()"
   ]
  },
  {
   "cell_type": "markdown",
   "metadata": {},
   "source": [
    "## Retrieving all objects"
   ]
  },
  {
   "cell_type": "code",
   "execution_count": 9,
   "metadata": {},
   "outputs": [
    {
     "name": "stdout",
     "output_type": "stream",
     "text": [
      "{'_id': ObjectId('5c794d3dbe25352d2ce6c81d'),\n",
      " 'emails': [{'email': 'goouser1@example.com', 'primary': True},\n",
      "            {'email': 'goouser2@example2.com', 'primary': False},\n",
      "            {'email': 'goouser3@example3.com', 'primary': False}],\n",
      " 'username': 'goouser'}\n",
      "{'_id': ObjectId('5c794d3dbe25352d2ce6c81e'),\n",
      " 'emails': [{'email': 'foouser1@example.com', 'primary': True},\n",
      "            {'email': 'foouser2@example2.com', 'primary': False},\n",
      "            {'email': 'foouser3@example3.com', 'primary': False}],\n",
      " 'username': 'foouser'}\n"
     ]
    }
   ],
   "source": [
    "#Printing pretty\n",
    "from pprint import pprint\n",
    "\n",
    "users = myDb.users.find()\n",
    "\n",
    "for document in users: \n",
    "    pprint(document)"
   ]
  },
  {
   "cell_type": "markdown",
   "metadata": {},
   "source": [
    "## Retrieving one element"
   ]
  },
  {
   "cell_type": "code",
   "execution_count": 10,
   "metadata": {},
   "outputs": [
    {
     "name": "stdout",
     "output_type": "stream",
     "text": [
      "{'_id': ObjectId('5c794d3dbe25352d2ce6c81d'),\n",
      " 'emails': [{'email': 'goouser1@example.com', 'primary': True},\n",
      "            {'email': 'goouser2@example2.com', 'primary': False},\n",
      "            {'email': 'goouser3@example3.com', 'primary': False}],\n",
      " 'username': 'goouser'}\n"
     ]
    }
   ],
   "source": [
    "user = myDb.users.find_one({\"username\" : \"goouser\"})\n",
    "\n",
    "pprint(user)"
   ]
  },
  {
   "cell_type": "markdown",
   "metadata": {},
   "source": [
    "## Query explain"
   ]
  },
  {
   "cell_type": "code",
   "execution_count": 11,
   "metadata": {},
   "outputs": [],
   "source": [
    "myDb.users.find({\"username\" : \"goouser\"}).explain() ; # remove ; to see the result"
   ]
  },
  {
   "cell_type": "markdown",
   "metadata": {},
   "source": [
    "## Compound indexes\n",
    "A list of 2-tuples (key, direction) "
   ]
  },
  {
   "cell_type": "code",
   "execution_count": 12,
   "metadata": {},
   "outputs": [
    {
     "data": {
      "text/plain": [
       "'name_idx'"
      ]
     },
     "execution_count": 12,
     "metadata": {},
     "output_type": "execute_result"
    }
   ],
   "source": [
    "# Create a compound index called \"name_idx\" on first_name and last_name properties\n",
    "# with ascending index direction\n",
    "\n",
    "myDb.users.create_index([(\"first_name\", pymongo.ASCENDING),(\"last_name\", pymongo.ASCENDING)], name=\"name_idx\")"
   ]
  },
  {
   "cell_type": "markdown",
   "metadata": {},
   "source": [
    " ## GeoSpatial Indexing\n",
    " MongoDB provides the *near* and *within*  \n",
    "*near*: proximity to a given point. \n",
    "*within*: allows you to specify a bounds for the query.  \n",
    "Supported boundary definitions include.  \n",
    "*box* for a rectangular shape.  \n",
    "*circle* for a circle.  \n",
    "*polygon* operator allows for convex and concave polygon boundaries.  "
   ]
  },
  {
   "cell_type": "markdown",
   "metadata": {},
   "source": [
    "## Inserting a document with coordinates"
   ]
  },
  {
   "cell_type": "code",
   "execution_count": 73,
   "metadata": {},
   "outputs": [],
   "source": [
    "import bson\n",
    "# location property is a sub-document with x,y ordering\n",
    "loc = bson.SON()\n",
    "loc[\"x\"] = 5\n",
    "loc[\"y\"] = 5\n",
    "user_doc3 = {\n",
    " \"username\":\"hoouser\",\n",
    " \"user_location\":loc\n",
    "}\n",
    "loc2 = bson.SON()\n",
    "loc2[\"x\"] = 100\n",
    "loc2[\"y\"] = 100\n",
    "user_doc4 = {\n",
    " \"username\":\"moouser\",\n",
    " \"user_location\":loc2\n",
    "}\n",
    "\n",
    "#Deleting previous documents\n",
    "myDb.usersLocation.drop()\n",
    "\n",
    "myDb.usersLocation.insert_one(user_doc4);\n",
    "myDb.usersLocation.insert_one(user_doc3);\n",
    "\n",
    "#Note that we create a new collection called usersLocation"
   ]
  },
  {
   "cell_type": "code",
   "execution_count": 46,
   "metadata": {},
   "outputs": [
    {
     "name": "stdout",
     "output_type": "stream",
     "text": [
      "{'_id': ObjectId('5c79586cbe25352d2ce6c82a'),\n",
      " 'user_location': {'x': 100, 'y': 100},\n",
      " 'username': 'moouser'}\n",
      "{'_id': ObjectId('5c79586cbe25352d2ce6c82b'),\n",
      " 'user_location': {'x': 5, 'y': 5},\n",
      " 'username': 'hoouser'}\n"
     ]
    }
   ],
   "source": [
    "for document in myDb.usersLocation.find(): \n",
    "    pprint(document)"
   ]
  },
  {
   "cell_type": "markdown",
   "metadata": {},
   "source": [
    "## Creating the index"
   ]
  },
  {
   "cell_type": "code",
   "execution_count": 48,
   "metadata": {},
   "outputs": [
    {
     "data": {
      "text/plain": [
       "'location_idx'"
      ]
     },
     "execution_count": 48,
     "metadata": {},
     "output_type": "execute_result"
    }
   ],
   "source": [
    "# Create geospatial index on \"user_location\" property.\n",
    "myDb.usersLocation.create_index([(\"user_location\", pymongo.GEO2D), (\"username\",\n",
    "pymongo.ASCENDING)],name=\"location_idx\")"
   ]
  },
  {
   "cell_type": "markdown",
   "metadata": {},
   "source": [
    "## Making a query within box\n",
    "To specify a rectangle to search within, you simply provide the lower-left and top-right\n",
    "co-ordinates as elements in an array"
   ]
  },
  {
   "cell_type": "code",
   "execution_count": 50,
   "metadata": {},
   "outputs": [
    {
     "name": "stdout",
     "output_type": "stream",
     "text": [
      "{'_id': ObjectId('5c79586cbe25352d2ce6c82b'),\n",
      " 'user_location': {'x': 5, 'y': 5},\n",
      " 'username': 'hoouser'}\n"
     ]
    }
   ],
   "source": [
    "box = [[-10, -10], [20, 20]]\n",
    "users_in_boundary = myDb.usersLocation.find({\"user_location\":{\"$within\": {\"$box\":box}}})\n",
    "for document in users_in_boundary: \n",
    "    pprint(document)"
   ]
  },
  {
   "cell_type": "markdown",
   "metadata": {},
   "source": [
    "## Making a query within circle\n",
    "To specify a citcle to search within, you just supply the center point and the radius(degrees)\n"
   ]
  },
  {
   "cell_type": "code",
   "execution_count": 82,
   "metadata": {},
   "outputs": [
    {
     "name": "stdout",
     "output_type": "stream",
     "text": [
      "{'_id': ObjectId('5c795fbdbe25352d2ce6c82c'),\n",
      " 'user_location': {'x': 100, 'y': 100},\n",
      " 'username': 'moouser'}\n"
     ]
    }
   ],
   "source": [
    "users_in_circle = myDb.usersLocation.find({\"user_location\":{\"$within\":{\"$center\":[[100, 100],5]}}}).limit(10)\n",
    "for document in users_in_circle: \n",
    "    pprint(document)"
   ]
  },
  {
   "cell_type": "markdown",
   "metadata": {},
   "source": [
    "## The spherical model\n",
    "can be used by employing the nearSphere and circle\n",
    "Sphere variants on the near and circle operators  \n",
    "The are always expressed in radians  \n",
    "To translate from kilometers to radians, simply divide the kilometer value by the radius of the earth which is approximately 6371 km (or 3959 miles)  "
   ]
  },
  {
   "cell_type": "code",
   "execution_count": 85,
   "metadata": {},
   "outputs": [
    {
     "name": "stdout",
     "output_type": "stream",
     "text": [
      "{'_id': ObjectId('5c795fbdbe25352d2ce6c82d'),\n",
      " 'user_location': {'x': 5, 'y': 5},\n",
      " 'username': 'hoouser'}\n"
     ]
    }
   ],
   "source": [
    "earth_radius_km = 6371.0\n",
    "max_distance_km = 35.0\n",
    "max_distance_radians = max_distance_km / earth_radius_km\n",
    "nearest_users = myDb.usersLocation.find( {\"user_location\": \n",
    "                                          {\"$geoWithin\" : { \"$centerSphere\": [ [ 5,5 ], max_distance_km ] }}})\n",
    "for document in nearest_users: \n",
    "    pprint(document)"
   ]
  },
  {
   "cell_type": "code",
   "execution_count": null,
   "metadata": {},
   "outputs": [],
   "source": []
  },
  {
   "cell_type": "code",
   "execution_count": null,
   "metadata": {},
   "outputs": [],
   "source": []
  }
 ],
 "metadata": {
  "kernelspec": {
   "display_name": "Python 3",
   "language": "python",
   "name": "python3"
  },
  "language_info": {
   "codemirror_mode": {
    "name": "ipython",
    "version": 3
   },
   "file_extension": ".py",
   "mimetype": "text/x-python",
   "name": "python",
   "nbconvert_exporter": "python",
   "pygments_lexer": "ipython3",
   "version": "3.7.1"
  }
 },
 "nbformat": 4,
 "nbformat_minor": 2
}
