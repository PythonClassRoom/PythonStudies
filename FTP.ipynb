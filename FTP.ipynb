{
 "cells": [
  {
   "cell_type": "markdown",
   "metadata": {},
   "source": [
    "# FTP\n",
    "\n",
    "FTP, or File Transfer Protocol, is a really simple way of file transferring. All that is really needed is setting up a server, code for which is supplied, and connecting to it.\n",
    "Public FTP servers also exist, if you wish to connect to one.\n",
    "\n",
    "## Warning\n",
    "\n",
    "The following code should be run locally. This is because, since the server never stops, Jupyter won't allow you to run any code blocks after it."
   ]
  },
  {
   "cell_type": "code",
   "execution_count": null,
   "metadata": {},
   "outputs": [
    {
     "name": "stderr",
     "output_type": "stream",
     "text": [
      "C:\\Users\\waee\\AppData\\Roaming\\Python\\Python37\\site-packages\\pyftpdlib\\authorizers.py:244: RuntimeWarning: write permissions assigned to anonymous user.\n",
      "  RuntimeWarning)\n",
      "[I 2019-03-05 15:43:42] >>> starting FTP server on 127.0.0.1:21, pid=2728 <<<\n",
      "[I 2019-03-05 15:43:42] concurrency model: async\n",
      "[I 2019-03-05 15:43:42] masquerade (NAT) address: None\n",
      "[I 2019-03-05 15:43:42] passive ports: None\n"
     ]
    }
   ],
   "source": [
    "from pyftpdlib.authorizers import DummyAuthorizer\n",
    "from pyftpdlib.handlers import FTPHandler\n",
    "from pyftpdlib.servers import FTPServer\n",
    "\n",
    "authorizer = DummyAuthorizer()\n",
    "authorizer.add_user('test','potato',\"Local directory goes here. Use / to separate folders\",perm='elradfmwM')\n",
    "\n",
    "handler = FTPHandler\n",
    "handler.authorizer = authorizer\n",
    "server = FTPServer((\"127.0.0.1\", 21), handler)\n",
    "server.serve_forever()"
   ]
  },
  {
   "cell_type": "markdown",
   "metadata": {},
   "source": [
    "## Permissions\n",
    "\n",
    "As you could see, there's a perm parameter when setting up a user. This refers to the permissions such a user will have on the server.\n",
    "Each letter refers to a particular permission, each of which is described bellow, as per the official pyftpdlib documentation:\n",
    "\n",
    "Read permissions:\n",
    "\n",
    "\"e\" = change directory\n",
    "\n",
    "\"l\" = list files\n",
    "\n",
    "\"r\" = retrieve file from the server\n",
    "\n",
    "Write permissions:\n",
    "\n",
    "\"a\" = append data to an existing file\n",
    "\n",
    "\"d\" = delete file or directory\n",
    "\n",
    "\"f\" = rename file or directory\n",
    "\n",
    "\"m\" = create directory\n",
    "\n",
    "\"w\" = store a file to the server\n",
    "\n",
    "\"M\" = change file mode / permission\n",
    "\n",
    "\"T\" = change file modification time"
   ]
  },
  {
   "cell_type": "code",
   "execution_count": 3,
   "metadata": {},
   "outputs": [
    {
     "name": "stdout",
     "output_type": "stream",
     "text": [
      "- -rw-rw-rw-   1 owner    group           6 Mar 05 21:18 example.txt\n",
      "- -rw-rw-rw-   1 owner    group           8 Mar 05 21:37 exampleFile.txt\n"
     ]
    }
   ],
   "source": [
    "import ftplib\n",
    " \n",
    "ftp = ftplib.FTP(\"127.0.0.1\")\n",
    "ftp.login(user='test', passwd = 'potato')\n",
    " \n",
    "data = []\n",
    " \n",
    "ftp.dir(data.append)\n",
    " \n",
    "ftp.quit()\n",
    " \n",
    "for line in data:\n",
    "    print (\"-\", line)"
   ]
  },
  {
   "cell_type": "markdown",
   "metadata": {},
   "source": [
    "## Data Retrieval\n",
    "\n",
    "Recovering data from the server is a rather simple process"
   ]
  },
  {
   "cell_type": "code",
   "execution_count": 4,
   "metadata": {},
   "outputs": [],
   "source": [
    "def downloadFile():\n",
    "   filename = 'example.txt'\n",
    "   localfile = open(filename, 'wb')\n",
    "   ftp.retrbinary('RETR ' + filename, localfile.write, 1024)\n",
    "   localfile.close()"
   ]
  },
  {
   "cell_type": "markdown",
   "metadata": {},
   "source": [
    "First, the name of the local file is set up, and the file created.\n",
    "The filename in the retrbinary is the same in this example, but both names need not be the same.\n",
    "The file contents are then copied and the local file closed.\n",
    "In this example, the file will be downloaded to the same directory where this notebook resides, but do note that this can also be specified in the file name."
   ]
  },
  {
   "cell_type": "code",
   "execution_count": 7,
   "metadata": {},
   "outputs": [
    {
     "data": {
      "text/plain": [
       "'221 Goodbye.'"
      ]
     },
     "execution_count": 7,
     "metadata": {},
     "output_type": "execute_result"
    }
   ],
   "source": [
    "ftp = ftplib.FTP(\"127.0.0.1\")\n",
    "ftp.login(user='test', passwd = 'potato')\n",
    "downloadFile()\n",
    "ftp.quit()"
   ]
  },
  {
   "cell_type": "markdown",
   "metadata": {},
   "source": [
    "## Data Upload"
   ]
  },
  {
   "cell_type": "code",
   "execution_count": 11,
   "metadata": {},
   "outputs": [],
   "source": [
    "def placeFile():\n",
    "\n",
    "    filename = 'exampleFile.txt' #The file to be uploaded.\n",
    "    file = open(filename, 'rb')\n",
    "    ftp.storbinary('STOR '+filename,file )\n",
    "    file.close()"
   ]
  },
  {
   "cell_type": "code",
   "execution_count": 12,
   "metadata": {},
   "outputs": [
    {
     "ename": "FileNotFoundError",
     "evalue": "[Errno 2] No such file or directory: 'exampleFile.txt'",
     "output_type": "error",
     "traceback": [
      "\u001b[1;31m---------------------------------------------------------------------------\u001b[0m",
      "\u001b[1;31mFileNotFoundError\u001b[0m                         Traceback (most recent call last)",
      "\u001b[1;32m<ipython-input-12-013043e36c74>\u001b[0m in \u001b[0;36m<module>\u001b[1;34m\u001b[0m\n\u001b[0;32m      1\u001b[0m \u001b[0mftp\u001b[0m \u001b[1;33m=\u001b[0m \u001b[0mftplib\u001b[0m\u001b[1;33m.\u001b[0m\u001b[0mFTP\u001b[0m\u001b[1;33m(\u001b[0m\u001b[1;34m\"127.0.0.1\"\u001b[0m\u001b[1;33m)\u001b[0m\u001b[1;33m\u001b[0m\u001b[1;33m\u001b[0m\u001b[0m\n\u001b[0;32m      2\u001b[0m \u001b[0mftp\u001b[0m\u001b[1;33m.\u001b[0m\u001b[0mlogin\u001b[0m\u001b[1;33m(\u001b[0m\u001b[0muser\u001b[0m\u001b[1;33m=\u001b[0m\u001b[1;34m'test'\u001b[0m\u001b[1;33m,\u001b[0m \u001b[0mpasswd\u001b[0m \u001b[1;33m=\u001b[0m \u001b[1;34m'potato'\u001b[0m\u001b[1;33m)\u001b[0m\u001b[1;33m\u001b[0m\u001b[1;33m\u001b[0m\u001b[0m\n\u001b[1;32m----> 3\u001b[1;33m \u001b[0mplaceFile\u001b[0m\u001b[1;33m(\u001b[0m\u001b[1;33m)\u001b[0m\u001b[1;33m\u001b[0m\u001b[1;33m\u001b[0m\u001b[0m\n\u001b[0m\u001b[0;32m      4\u001b[0m \u001b[0mftp\u001b[0m\u001b[1;33m.\u001b[0m\u001b[0mquit\u001b[0m\u001b[1;33m(\u001b[0m\u001b[1;33m)\u001b[0m\u001b[1;33m\u001b[0m\u001b[1;33m\u001b[0m\u001b[0m\n",
      "\u001b[1;32m<ipython-input-11-3488d2c51f23>\u001b[0m in \u001b[0;36mplaceFile\u001b[1;34m()\u001b[0m\n\u001b[0;32m      2\u001b[0m \u001b[1;33m\u001b[0m\u001b[0m\n\u001b[0;32m      3\u001b[0m     \u001b[0mfilename\u001b[0m \u001b[1;33m=\u001b[0m \u001b[1;34m'exampleFile.txt'\u001b[0m \u001b[1;31m#The file to be uploaded\u001b[0m\u001b[1;33m\u001b[0m\u001b[1;33m\u001b[0m\u001b[0m\n\u001b[1;32m----> 4\u001b[1;33m     \u001b[0mfile\u001b[0m \u001b[1;33m=\u001b[0m \u001b[0mopen\u001b[0m\u001b[1;33m(\u001b[0m\u001b[0mfilename\u001b[0m\u001b[1;33m,\u001b[0m \u001b[1;34m'rb'\u001b[0m\u001b[1;33m)\u001b[0m\u001b[1;33m\u001b[0m\u001b[1;33m\u001b[0m\u001b[0m\n\u001b[0m\u001b[0;32m      5\u001b[0m     \u001b[0mftp\u001b[0m\u001b[1;33m.\u001b[0m\u001b[0mstorbinary\u001b[0m\u001b[1;33m(\u001b[0m\u001b[1;34m'STOR '\u001b[0m\u001b[1;33m+\u001b[0m\u001b[0mfilename\u001b[0m\u001b[1;33m,\u001b[0m\u001b[0mfile\u001b[0m \u001b[1;33m)\u001b[0m\u001b[1;33m\u001b[0m\u001b[1;33m\u001b[0m\u001b[0m\n\u001b[0;32m      6\u001b[0m     \u001b[0mfile\u001b[0m\u001b[1;33m.\u001b[0m\u001b[0mclose\u001b[0m\u001b[1;33m(\u001b[0m\u001b[1;33m)\u001b[0m\u001b[1;33m\u001b[0m\u001b[1;33m\u001b[0m\u001b[0m\n",
      "\u001b[1;31mFileNotFoundError\u001b[0m: [Errno 2] No such file or directory: 'exampleFile.txt'"
     ]
    }
   ],
   "source": [
    "ftp = ftplib.FTP(\"127.0.0.1\")\n",
    "ftp.login(user='test', passwd = 'potato')\n",
    "placeFile() #If the file doesn't exist, the call will fail.\n",
    "ftp.quit()"
   ]
  },
  {
   "cell_type": "markdown",
   "metadata": {},
   "source": [
    "Always remember that permissions must be given to each user. Otherwise, non-allowed operations will fail."
   ]
  },
  {
   "cell_type": "code",
   "execution_count": null,
   "metadata": {},
   "outputs": [],
   "source": []
  }
 ],
 "metadata": {
  "kernelspec": {
   "display_name": "Python 3",
   "language": "python",
   "name": "python3"
  },
  "language_info": {
   "codemirror_mode": {
    "name": "ipython",
    "version": 3
   },
   "file_extension": ".py",
   "mimetype": "text/x-python",
   "name": "python",
   "nbconvert_exporter": "python",
   "pygments_lexer": "ipython3",
   "version": "3.7.1"
  }
 },
 "nbformat": 4,
 "nbformat_minor": 2
}
